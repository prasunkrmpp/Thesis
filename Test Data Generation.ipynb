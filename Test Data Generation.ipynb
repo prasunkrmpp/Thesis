{
 "cells": [
  {
   "cell_type": "code",
   "execution_count": 1,
   "id": "0862fe9e",
   "metadata": {},
   "outputs": [
    {
     "name": "stdout",
     "output_type": "stream",
     "text": [
      "(340, 1024)\n"
     ]
    }
   ],
   "source": [
    "import numpy as np \n",
    "import random\n",
    "\n",
    "length=1024\n",
    "total_data=340\n",
    "\n",
    "x_test=np.zeros((total_data,length))\n",
    "y_test=np.zeros(total_data)\n",
    "\n",
    "\n",
    "\n",
    "\n",
    "count=0\n",
    "\n",
    "for index in range(2,19):\n",
    "\traw_data=np.loadtxt(str(index)+\".txt\")\n",
    "\tdata=raw_data[:,1]\n",
    "    \n",
    "\n",
    "\tfor j in range(20):\n",
    "\t\tfor i in range(1024):\n",
    "\t\t\tx_test[count*20+j][i]=data[j*1024+i]*(2/(0.615780941+0.329495123))\n",
    "\t\t\tif index>=2 and index<8:\n",
    "\t\t\t\ty_test[count*20+j]=0\n",
    "\t\t\t\tpass\n",
    "\t\t\tif index>=8 and index<=13:\n",
    "\t\t\t\ty_test[count*20+j]=1\n",
    "\t\t\t\tpass\n",
    "\t\t\tif index>13 and index<=18:\n",
    "\t\t\t\ty_test[count*20+j]=2\n",
    "\t\t\t\tpass\n",
    "\tcount+=1\n",
    "\tpass\n",
    "\n",
    "np.savetxt('x_testl.txt',x_test)\n",
    "np.savetxt('y_testl.txt',y_test)\n",
    "print(np.shape(x_test))"
   ]
  },
  {
   "cell_type": "code",
   "execution_count": null,
   "id": "515ad3c5",
   "metadata": {},
   "outputs": [],
   "source": []
  }
 ],
 "metadata": {
  "kernelspec": {
   "display_name": "Python 3 (ipykernel)",
   "language": "python",
   "name": "python3"
  },
  "language_info": {
   "codemirror_mode": {
    "name": "ipython",
    "version": 3
   },
   "file_extension": ".py",
   "mimetype": "text/x-python",
   "name": "python",
   "nbconvert_exporter": "python",
   "pygments_lexer": "ipython3",
   "version": "3.9.7"
  }
 },
 "nbformat": 4,
 "nbformat_minor": 5
}
