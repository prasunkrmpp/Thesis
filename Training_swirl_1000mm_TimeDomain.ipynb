{
 "cells": [
  {
   "cell_type": "code",
   "execution_count": 1,
   "metadata": {},
   "outputs": [],
   "source": [
    "import pandas as pd\n",
    "import numpy as np\n",
    "from sklearn.model_selection import train_test_split\n",
    "from sklearn.preprocessing import StandardScaler\n",
    "from sklearn.linear_model import LogisticRegression\n",
    "from sklearn.metrics import confusion_matrix,accuracy_score\n",
    "import seaborn as sns\n",
    "import matplotlib.pyplot as plt\n",
    "import pickle"
   ]
  },
  {
   "cell_type": "code",
   "execution_count": 2,
   "metadata": {},
   "outputs": [],
   "source": [
    "data = pd.read_csv('features_time1.csv')"
   ]
  },
  {
   "cell_type": "code",
   "execution_count": 3,
   "metadata": {},
   "outputs": [
    {
     "data": {
      "text/html": [
       "<div>\n",
       "<style scoped>\n",
       "    .dataframe tbody tr th:only-of-type {\n",
       "        vertical-align: middle;\n",
       "    }\n",
       "\n",
       "    .dataframe tbody tr th {\n",
       "        vertical-align: top;\n",
       "    }\n",
       "\n",
       "    .dataframe thead th {\n",
       "        text-align: right;\n",
       "    }\n",
       "</style>\n",
       "<table border=\"1\" class=\"dataframe\">\n",
       "  <thead>\n",
       "    <tr style=\"text-align: right;\">\n",
       "      <th></th>\n",
       "      <th>Unnamed: 0</th>\n",
       "      <th>Mean</th>\n",
       "      <th>SD</th>\n",
       "      <th>RMS</th>\n",
       "      <th>Peak-to-Peak</th>\n",
       "      <th>Kurtosis</th>\n",
       "      <th>Skewness</th>\n",
       "      <th>Crest</th>\n",
       "      <th>Status</th>\n",
       "    </tr>\n",
       "  </thead>\n",
       "  <tbody>\n",
       "    <tr>\n",
       "      <th>0</th>\n",
       "      <td>0</td>\n",
       "      <td>23.335318</td>\n",
       "      <td>15.047893</td>\n",
       "      <td>27.762475</td>\n",
       "      <td>99.317060</td>\n",
       "      <td>0.143753</td>\n",
       "      <td>-0.220421</td>\n",
       "      <td>2.410229</td>\n",
       "      <td>stable</td>\n",
       "    </tr>\n",
       "    <tr>\n",
       "      <th>1</th>\n",
       "      <td>1</td>\n",
       "      <td>23.490211</td>\n",
       "      <td>17.022671</td>\n",
       "      <td>29.004799</td>\n",
       "      <td>140.822698</td>\n",
       "      <td>2.281786</td>\n",
       "      <td>0.251258</td>\n",
       "      <td>3.482453</td>\n",
       "      <td>stable</td>\n",
       "    </tr>\n",
       "    <tr>\n",
       "      <th>2</th>\n",
       "      <td>2</td>\n",
       "      <td>21.615567</td>\n",
       "      <td>13.863735</td>\n",
       "      <td>25.675829</td>\n",
       "      <td>80.046586</td>\n",
       "      <td>-0.107346</td>\n",
       "      <td>0.181700</td>\n",
       "      <td>2.432906</td>\n",
       "      <td>stable</td>\n",
       "    </tr>\n",
       "    <tr>\n",
       "      <th>3</th>\n",
       "      <td>3</td>\n",
       "      <td>21.496864</td>\n",
       "      <td>13.070224</td>\n",
       "      <td>25.155101</td>\n",
       "      <td>84.493619</td>\n",
       "      <td>0.541329</td>\n",
       "      <td>-0.382638</td>\n",
       "      <td>2.188628</td>\n",
       "      <td>stable</td>\n",
       "    </tr>\n",
       "    <tr>\n",
       "      <th>4</th>\n",
       "      <td>4</td>\n",
       "      <td>20.521180</td>\n",
       "      <td>16.470847</td>\n",
       "      <td>26.308605</td>\n",
       "      <td>99.317060</td>\n",
       "      <td>0.126628</td>\n",
       "      <td>-0.111501</td>\n",
       "      <td>2.599768</td>\n",
       "      <td>stable</td>\n",
       "    </tr>\n",
       "  </tbody>\n",
       "</table>\n",
       "</div>"
      ],
      "text/plain": [
       "   Unnamed: 0       Mean         SD        RMS  Peak-to-Peak  Kurtosis  \\\n",
       "0           0  23.335318  15.047893  27.762475     99.317060  0.143753   \n",
       "1           1  23.490211  17.022671  29.004799    140.822698  2.281786   \n",
       "2           2  21.615567  13.863735  25.675829     80.046586 -0.107346   \n",
       "3           3  21.496864  13.070224  25.155101     84.493619  0.541329   \n",
       "4           4  20.521180  16.470847  26.308605     99.317060  0.126628   \n",
       "\n",
       "   Skewness     Crest  Status  \n",
       "0 -0.220421  2.410229  stable  \n",
       "1  0.251258  3.482453  stable  \n",
       "2  0.181700  2.432906  stable  \n",
       "3 -0.382638  2.188628  stable  \n",
       "4 -0.111501  2.599768  stable  "
      ]
     },
     "execution_count": 3,
     "metadata": {},
     "output_type": "execute_result"
    }
   ],
   "source": [
    "data.head()"
   ]
  },
  {
   "cell_type": "code",
   "execution_count": 4,
   "metadata": {},
   "outputs": [],
   "source": [
    "data = data.drop(['Unnamed: 0'],axis=1)\n",
    "#data = data.drop(['Unnamed: 0','RMS'],axis=1)\n",
    "#data = data.drop(['Unnamed: 0','RMS','Peak-to-Peak'],axis=1)"
   ]
  },
  {
   "cell_type": "code",
   "execution_count": 5,
   "metadata": {},
   "outputs": [
    {
     "data": {
      "text/html": [
       "<div>\n",
       "<style scoped>\n",
       "    .dataframe tbody tr th:only-of-type {\n",
       "        vertical-align: middle;\n",
       "    }\n",
       "\n",
       "    .dataframe tbody tr th {\n",
       "        vertical-align: top;\n",
       "    }\n",
       "\n",
       "    .dataframe thead th {\n",
       "        text-align: right;\n",
       "    }\n",
       "</style>\n",
       "<table border=\"1\" class=\"dataframe\">\n",
       "  <thead>\n",
       "    <tr style=\"text-align: right;\">\n",
       "      <th></th>\n",
       "      <th>Mean</th>\n",
       "      <th>SD</th>\n",
       "      <th>RMS</th>\n",
       "      <th>Peak-to-Peak</th>\n",
       "      <th>Kurtosis</th>\n",
       "      <th>Skewness</th>\n",
       "      <th>Crest</th>\n",
       "      <th>Status</th>\n",
       "    </tr>\n",
       "  </thead>\n",
       "  <tbody>\n",
       "    <tr>\n",
       "      <th>0</th>\n",
       "      <td>23.335318</td>\n",
       "      <td>15.047893</td>\n",
       "      <td>27.762475</td>\n",
       "      <td>99.317060</td>\n",
       "      <td>0.143753</td>\n",
       "      <td>-0.220421</td>\n",
       "      <td>2.410229</td>\n",
       "      <td>stable</td>\n",
       "    </tr>\n",
       "    <tr>\n",
       "      <th>1</th>\n",
       "      <td>23.490211</td>\n",
       "      <td>17.022671</td>\n",
       "      <td>29.004799</td>\n",
       "      <td>140.822698</td>\n",
       "      <td>2.281786</td>\n",
       "      <td>0.251258</td>\n",
       "      <td>3.482453</td>\n",
       "      <td>stable</td>\n",
       "    </tr>\n",
       "    <tr>\n",
       "      <th>2</th>\n",
       "      <td>21.615567</td>\n",
       "      <td>13.863735</td>\n",
       "      <td>25.675829</td>\n",
       "      <td>80.046586</td>\n",
       "      <td>-0.107346</td>\n",
       "      <td>0.181700</td>\n",
       "      <td>2.432906</td>\n",
       "      <td>stable</td>\n",
       "    </tr>\n",
       "    <tr>\n",
       "      <th>3</th>\n",
       "      <td>21.496864</td>\n",
       "      <td>13.070224</td>\n",
       "      <td>25.155101</td>\n",
       "      <td>84.493619</td>\n",
       "      <td>0.541329</td>\n",
       "      <td>-0.382638</td>\n",
       "      <td>2.188628</td>\n",
       "      <td>stable</td>\n",
       "    </tr>\n",
       "    <tr>\n",
       "      <th>4</th>\n",
       "      <td>20.521180</td>\n",
       "      <td>16.470847</td>\n",
       "      <td>26.308605</td>\n",
       "      <td>99.317060</td>\n",
       "      <td>0.126628</td>\n",
       "      <td>-0.111501</td>\n",
       "      <td>2.599768</td>\n",
       "      <td>stable</td>\n",
       "    </tr>\n",
       "    <tr>\n",
       "      <th>...</th>\n",
       "      <td>...</td>\n",
       "      <td>...</td>\n",
       "      <td>...</td>\n",
       "      <td>...</td>\n",
       "      <td>...</td>\n",
       "      <td>...</td>\n",
       "      <td>...</td>\n",
       "      <td>...</td>\n",
       "    </tr>\n",
       "    <tr>\n",
       "      <th>335</th>\n",
       "      <td>38.530794</td>\n",
       "      <td>2699.395255</td>\n",
       "      <td>2698.351981</td>\n",
       "      <td>8886.653395</td>\n",
       "      <td>-1.409113</td>\n",
       "      <td>0.318021</td>\n",
       "      <td>1.921709</td>\n",
       "      <td>unstable</td>\n",
       "    </tr>\n",
       "    <tr>\n",
       "      <th>336</th>\n",
       "      <td>63.813158</td>\n",
       "      <td>2736.100840</td>\n",
       "      <td>2735.508935</td>\n",
       "      <td>8842.183070</td>\n",
       "      <td>-1.421717</td>\n",
       "      <td>0.328107</td>\n",
       "      <td>1.862009</td>\n",
       "      <td>unstable</td>\n",
       "    </tr>\n",
       "    <tr>\n",
       "      <th>337</th>\n",
       "      <td>49.403730</td>\n",
       "      <td>2715.152553</td>\n",
       "      <td>2714.276117</td>\n",
       "      <td>8822.912595</td>\n",
       "      <td>-1.432751</td>\n",
       "      <td>0.327478</td>\n",
       "      <td>1.874937</td>\n",
       "      <td>unstable</td>\n",
       "    </tr>\n",
       "    <tr>\n",
       "      <th>338</th>\n",
       "      <td>51.300089</td>\n",
       "      <td>2744.434620</td>\n",
       "      <td>2743.573890</td>\n",
       "      <td>9117.899088</td>\n",
       "      <td>-1.421678</td>\n",
       "      <td>0.326265</td>\n",
       "      <td>1.894897</td>\n",
       "      <td>unstable</td>\n",
       "    </tr>\n",
       "    <tr>\n",
       "      <th>339</th>\n",
       "      <td>43.862311</td>\n",
       "      <td>2764.849295</td>\n",
       "      <td>2763.847011</td>\n",
       "      <td>8843.665414</td>\n",
       "      <td>-1.431190</td>\n",
       "      <td>0.326436</td>\n",
       "      <td>1.834873</td>\n",
       "      <td>unstable</td>\n",
       "    </tr>\n",
       "  </tbody>\n",
       "</table>\n",
       "<p>340 rows × 8 columns</p>\n",
       "</div>"
      ],
      "text/plain": [
       "          Mean           SD          RMS  Peak-to-Peak  Kurtosis  Skewness  \\\n",
       "0    23.335318    15.047893    27.762475     99.317060  0.143753 -0.220421   \n",
       "1    23.490211    17.022671    29.004799    140.822698  2.281786  0.251258   \n",
       "2    21.615567    13.863735    25.675829     80.046586 -0.107346  0.181700   \n",
       "3    21.496864    13.070224    25.155101     84.493619  0.541329 -0.382638   \n",
       "4    20.521180    16.470847    26.308605     99.317060  0.126628 -0.111501   \n",
       "..         ...          ...          ...           ...       ...       ...   \n",
       "335  38.530794  2699.395255  2698.351981   8886.653395 -1.409113  0.318021   \n",
       "336  63.813158  2736.100840  2735.508935   8842.183070 -1.421717  0.328107   \n",
       "337  49.403730  2715.152553  2714.276117   8822.912595 -1.432751  0.327478   \n",
       "338  51.300089  2744.434620  2743.573890   9117.899088 -1.421678  0.326265   \n",
       "339  43.862311  2764.849295  2763.847011   8843.665414 -1.431190  0.326436   \n",
       "\n",
       "        Crest    Status  \n",
       "0    2.410229    stable  \n",
       "1    3.482453    stable  \n",
       "2    2.432906    stable  \n",
       "3    2.188628    stable  \n",
       "4    2.599768    stable  \n",
       "..        ...       ...  \n",
       "335  1.921709  unstable  \n",
       "336  1.862009  unstable  \n",
       "337  1.874937  unstable  \n",
       "338  1.894897  unstable  \n",
       "339  1.834873  unstable  \n",
       "\n",
       "[340 rows x 8 columns]"
      ]
     },
     "execution_count": 5,
     "metadata": {},
     "output_type": "execute_result"
    }
   ],
   "source": [
    "data.head()"
   ]
  },
  {
   "cell_type": "code",
   "execution_count": 6,
   "metadata": {},
   "outputs": [],
   "source": [
    "data['Status'] = pd.Categorical(data['Status'])"
   ]
  },
  {
   "cell_type": "code",
   "execution_count": 7,
   "metadata": {},
   "outputs": [],
   "source": [
    "train, test = train_test_split(data, test_size = None, shuffle = True,\n",
    "                                                    random_state = 500)"
   ]
  },
  {
   "cell_type": "code",
   "execution_count": 8,
   "metadata": {},
   "outputs": [
    {
     "data": {
      "text/html": [
       "<div>\n",
       "<style scoped>\n",
       "    .dataframe tbody tr th:only-of-type {\n",
       "        vertical-align: middle;\n",
       "    }\n",
       "\n",
       "    .dataframe tbody tr th {\n",
       "        vertical-align: top;\n",
       "    }\n",
       "\n",
       "    .dataframe thead th {\n",
       "        text-align: right;\n",
       "    }\n",
       "</style>\n",
       "<table border=\"1\" class=\"dataframe\">\n",
       "  <thead>\n",
       "    <tr style=\"text-align: right;\">\n",
       "      <th></th>\n",
       "      <th>Mean</th>\n",
       "      <th>SD</th>\n",
       "      <th>RMS</th>\n",
       "      <th>Peak-to-Peak</th>\n",
       "      <th>Kurtosis</th>\n",
       "      <th>Skewness</th>\n",
       "      <th>Crest</th>\n",
       "      <th>Status</th>\n",
       "    </tr>\n",
       "  </thead>\n",
       "  <tbody>\n",
       "    <tr>\n",
       "      <th>319</th>\n",
       "      <td>2.085972</td>\n",
       "      <td>2640.210506</td>\n",
       "      <td>2638.921851</td>\n",
       "      <td>8286.304000</td>\n",
       "      <td>-1.450114</td>\n",
       "      <td>0.313602</td>\n",
       "      <td>1.778495</td>\n",
       "      <td>unstable</td>\n",
       "    </tr>\n",
       "    <tr>\n",
       "      <th>64</th>\n",
       "      <td>6.477996</td>\n",
       "      <td>258.952569</td>\n",
       "      <td>258.907151</td>\n",
       "      <td>1227.380986</td>\n",
       "      <td>-0.557173</td>\n",
       "      <td>-0.397888</td>\n",
       "      <td>2.107748</td>\n",
       "      <td>stable</td>\n",
       "    </tr>\n",
       "    <tr>\n",
       "      <th>45</th>\n",
       "      <td>10.030410</td>\n",
       "      <td>239.090496</td>\n",
       "      <td>239.184134</td>\n",
       "      <td>1010.958735</td>\n",
       "      <td>-1.041574</td>\n",
       "      <td>-0.378718</td>\n",
       "      <td>1.853925</td>\n",
       "      <td>stable</td>\n",
       "    </tr>\n",
       "    <tr>\n",
       "      <th>277</th>\n",
       "      <td>-40.356264</td>\n",
       "      <td>2054.959826</td>\n",
       "      <td>2054.352605</td>\n",
       "      <td>7436.920781</td>\n",
       "      <td>-1.425772</td>\n",
       "      <td>0.211353</td>\n",
       "      <td>2.068822</td>\n",
       "      <td>unstable</td>\n",
       "    </tr>\n",
       "    <tr>\n",
       "      <th>41</th>\n",
       "      <td>12.012177</td>\n",
       "      <td>231.677657</td>\n",
       "      <td>231.875856</td>\n",
       "      <td>1027.264521</td>\n",
       "      <td>-1.035311</td>\n",
       "      <td>-0.383469</td>\n",
       "      <td>1.925142</td>\n",
       "      <td>stable</td>\n",
       "    </tr>\n",
       "    <tr>\n",
       "      <th>...</th>\n",
       "      <td>...</td>\n",
       "      <td>...</td>\n",
       "      <td>...</td>\n",
       "      <td>...</td>\n",
       "      <td>...</td>\n",
       "      <td>...</td>\n",
       "      <td>...</td>\n",
       "      <td>...</td>\n",
       "    </tr>\n",
       "    <tr>\n",
       "      <th>72</th>\n",
       "      <td>4.193680</td>\n",
       "      <td>277.902568</td>\n",
       "      <td>277.798497</td>\n",
       "      <td>1362.274307</td>\n",
       "      <td>-0.810157</td>\n",
       "      <td>-0.402555</td>\n",
       "      <td>2.225879</td>\n",
       "      <td>stable</td>\n",
       "    </tr>\n",
       "    <tr>\n",
       "      <th>287</th>\n",
       "      <td>9.128555</td>\n",
       "      <td>2407.261792</td>\n",
       "      <td>2406.103400</td>\n",
       "      <td>8132.140205</td>\n",
       "      <td>-1.414301</td>\n",
       "      <td>0.297158</td>\n",
       "      <td>1.999255</td>\n",
       "      <td>unstable</td>\n",
       "    </tr>\n",
       "    <tr>\n",
       "      <th>206</th>\n",
       "      <td>-71.578138</td>\n",
       "      <td>1607.263238</td>\n",
       "      <td>1608.072075</td>\n",
       "      <td>6206.575107</td>\n",
       "      <td>-1.332003</td>\n",
       "      <td>0.145546</td>\n",
       "      <td>2.081587</td>\n",
       "      <td>transition</td>\n",
       "    </tr>\n",
       "    <tr>\n",
       "      <th>273</th>\n",
       "      <td>-68.127055</td>\n",
       "      <td>2028.129012</td>\n",
       "      <td>2028.282940</td>\n",
       "      <td>6741.701358</td>\n",
       "      <td>-1.448973</td>\n",
       "      <td>0.216899</td>\n",
       "      <td>1.825003</td>\n",
       "      <td>unstable</td>\n",
       "    </tr>\n",
       "    <tr>\n",
       "      <th>321</th>\n",
       "      <td>52.070213</td>\n",
       "      <td>2783.190808</td>\n",
       "      <td>2782.318778</td>\n",
       "      <td>9031.923126</td>\n",
       "      <td>-1.418943</td>\n",
       "      <td>0.333903</td>\n",
       "      <td>1.860518</td>\n",
       "      <td>unstable</td>\n",
       "    </tr>\n",
       "  </tbody>\n",
       "</table>\n",
       "<p>255 rows × 8 columns</p>\n",
       "</div>"
      ],
      "text/plain": [
       "          Mean           SD          RMS  Peak-to-Peak  Kurtosis  Skewness  \\\n",
       "319   2.085972  2640.210506  2638.921851   8286.304000 -1.450114  0.313602   \n",
       "64    6.477996   258.952569   258.907151   1227.380986 -0.557173 -0.397888   \n",
       "45   10.030410   239.090496   239.184134   1010.958735 -1.041574 -0.378718   \n",
       "277 -40.356264  2054.959826  2054.352605   7436.920781 -1.425772  0.211353   \n",
       "41   12.012177   231.677657   231.875856   1027.264521 -1.035311 -0.383469   \n",
       "..         ...          ...          ...           ...       ...       ...   \n",
       "72    4.193680   277.902568   277.798497   1362.274307 -0.810157 -0.402555   \n",
       "287   9.128555  2407.261792  2406.103400   8132.140205 -1.414301  0.297158   \n",
       "206 -71.578138  1607.263238  1608.072075   6206.575107 -1.332003  0.145546   \n",
       "273 -68.127055  2028.129012  2028.282940   6741.701358 -1.448973  0.216899   \n",
       "321  52.070213  2783.190808  2782.318778   9031.923126 -1.418943  0.333903   \n",
       "\n",
       "        Crest      Status  \n",
       "319  1.778495    unstable  \n",
       "64   2.107748      stable  \n",
       "45   1.853925      stable  \n",
       "277  2.068822    unstable  \n",
       "41   1.925142      stable  \n",
       "..        ...         ...  \n",
       "72   2.225879      stable  \n",
       "287  1.999255    unstable  \n",
       "206  2.081587  transition  \n",
       "273  1.825003    unstable  \n",
       "321  1.860518    unstable  \n",
       "\n",
       "[255 rows x 8 columns]"
      ]
     },
     "execution_count": 8,
     "metadata": {},
     "output_type": "execute_result"
    }
   ],
   "source": [
    "train.head()"
   ]
  },
  {
   "cell_type": "code",
   "execution_count": 9,
   "metadata": {},
   "outputs": [],
   "source": [
    "scaler = StandardScaler()\n",
    "train_scaled= scaler.fit_transform(train.iloc[:,:-1])\n",
    "test_scaled = (test.iloc[:,:-1].values - scaler.mean_)/np.sqrt(scaler.var_)"
   ]
  },
  {
   "cell_type": "code",
   "execution_count": 10,
   "metadata": {},
   "outputs": [],
   "source": [
    "mean_scaler = scaler.mean_"
   ]
  },
  {
   "cell_type": "code",
   "execution_count": 11,
   "metadata": {},
   "outputs": [],
   "source": [
    "std_scaler = scaler.var_"
   ]
  },
  {
   "cell_type": "code",
   "execution_count": 12,
   "metadata": {},
   "outputs": [
    {
     "data": {
      "text/plain": [
       "numpy.ndarray"
      ]
     },
     "execution_count": 12,
     "metadata": {},
     "output_type": "execute_result"
    }
   ],
   "source": [
    "type(mean_scaler)"
   ]
  },
  {
   "cell_type": "code",
   "execution_count": 13,
   "metadata": {},
   "outputs": [
    {
     "data": {
      "text/plain": [
       "array([ 0.36941982,  1.51894159,  1.51867128,  1.26942467, -0.85591525,\n",
       "        1.14505623, -1.07704403])"
      ]
     },
     "execution_count": 13,
     "metadata": {},
     "output_type": "execute_result"
    }
   ],
   "source": [
    "train_scaled[0]"
   ]
  },
  {
   "cell_type": "code",
   "execution_count": null,
   "metadata": {},
   "outputs": [],
   "source": []
  },
  {
   "cell_type": "markdown",
   "metadata": {},
   "source": [
    "## Training Logistic Regression"
   ]
  },
  {
   "cell_type": "code",
   "execution_count": 14,
   "metadata": {},
   "outputs": [],
   "source": [
    "logistic_clf = LogisticRegression(C = 100, max_iter = 500, n_jobs = -1)"
   ]
  },
  {
   "cell_type": "code",
   "execution_count": 15,
   "metadata": {},
   "outputs": [
    {
     "data": {
      "text/plain": [
       "LogisticRegression(C=100, max_iter=500, n_jobs=-1)"
      ]
     },
     "execution_count": 15,
     "metadata": {},
     "output_type": "execute_result"
    }
   ],
   "source": [
    "logistic_clf.fit(train_scaled, train['Status'])\n"
   ]
  },
  {
   "cell_type": "markdown",
   "metadata": {},
   "source": [
    "### Feature Importance"
   ]
  },
  {
   "cell_type": "code",
   "execution_count": 16,
   "metadata": {},
   "outputs": [],
   "source": [
    "importance = abs(logistic_clf.coef_)"
   ]
  },
  {
   "cell_type": "code",
   "execution_count": 17,
   "metadata": {},
   "outputs": [
    {
     "data": {
      "text/plain": [
       "array([[7.35237403, 4.05563076, 4.05574622, 8.76021533, 1.01608071,\n",
       "        6.44850949, 1.88295955],\n",
       "       [5.07516964, 2.55179091, 2.55043644, 4.82286514, 1.47748919,\n",
       "        1.42381641, 0.05122804],\n",
       "       [2.27720439, 6.60742167, 6.60618265, 3.93735019, 2.49356991,\n",
       "        7.8723259 , 1.83173151]])"
      ]
     },
     "execution_count": 17,
     "metadata": {},
     "output_type": "execute_result"
    }
   ],
   "source": [
    "importance"
   ]
  },
  {
   "cell_type": "code",
   "execution_count": 18,
   "metadata": {},
   "outputs": [],
   "source": [
    "imp = np.mean(importance, axis = 0)"
   ]
  },
  {
   "cell_type": "code",
   "execution_count": 19,
   "metadata": {},
   "outputs": [],
   "source": [
    "#plt.figure(figsize=(4,6))\n",
    "#plt.bar(['RMS'], imp)\n",
    "#plt.ylabel('Features coefficient magnitude', size = 12)\n",
    "#plt.show()"
   ]
  },
  {
   "cell_type": "code",
   "execution_count": 64,
   "metadata": {},
   "outputs": [
    {
     "data": {
      "text/plain": [
       "(array([[0., 0., 0., 2., 0., 0., 0., 0., 0., 1.],\n",
       "        [0., 0., 1., 1., 0., 0., 0., 0., 0., 1.],\n",
       "        [0., 0., 1., 1., 0., 0., 0., 0., 0., 1.],\n",
       "        [1., 0., 0., 0., 0., 0., 1., 0., 0., 1.],\n",
       "        [0., 0., 0., 0., 1., 2., 0., 0., 0., 0.],\n",
       "        [0., 0., 0., 1., 0., 1., 0., 1., 0., 0.],\n",
       "        [0., 0., 0., 0., 1., 1., 1., 0., 0., 0.],\n",
       "        [0., 0., 0., 0., 0., 3., 0., 0., 0., 0.]]),\n",
       " array([-10.87250229,  -8.80554207,  -6.73858185,  -4.67162163,\n",
       "         -2.60466142,  -0.5377012 ,   1.52925902,   3.59621924,\n",
       "          5.66317945,   7.73013967,   9.79709989]),\n",
       " <a list of 8 Lists of Patches objects>)"
      ]
     },
     "execution_count": 64,
     "metadata": {},
     "output_type": "execute_result"
    },
    {
     "data": {
      "image/png": "[encoded data removed]",
      "text/plain": [
       "<Figure size 432x288 with 1 Axes>"
      ]
     },
     "metadata": {},
     "output_type": "display_data"
    }
   ],
   "source": [
    "plt.hist(logistic_clf.coef_)"
   ]
  },
  {
   "cell_type": "code",
   "execution_count": 20,
   "metadata": {},
   "outputs": [],
   "source": [
    "train_predictions = logistic_clf.predict(train_scaled)\n",
    "test_predictions = logistic_clf.predict(test_scaled)"
   ]
  },
  {
   "cell_type": "markdown",
   "metadata": {},
   "source": [
    "### Confusion Matrices"
   ]
  },
  {
   "cell_type": "code",
   "execution_count": 21,
   "metadata": {},
   "outputs": [],
   "source": [
    "train_confusion_matrix = confusion_matrix(train['Status'], train_predictions)\n",
    "test_confusion_matrix = confusion_matrix(test['Status'], test_predictions)\n"
   ]
  },
  {
   "cell_type": "markdown",
   "metadata": {},
   "source": [
    "### Acuracy Calculation"
   ]
  },
  {
   "cell_type": "code",
   "execution_count": 22,
   "metadata": {},
   "outputs": [
    {
     "name": "stdout",
     "output_type": "stream",
     "text": [
      "Ovearll training accuracy:  1.0\n"
     ]
    }
   ],
   "source": [
    "train_accuracy = accuracy_score(train['Status'], train_predictions)\n",
    "print(\"Ovearll training accuracy: \", train_accuracy)"
   ]
  },
  {
   "cell_type": "code",
   "execution_count": 23,
   "metadata": {},
   "outputs": [
    {
     "data": {
      "text/plain": [
       "1.0"
      ]
     },
     "execution_count": 23,
     "metadata": {},
     "output_type": "execute_result"
    }
   ],
   "source": [
    "logistic_clf.score(test_scaled,test['Status'])"
   ]
  },
  {
   "cell_type": "code",
   "execution_count": 24,
   "metadata": {},
   "outputs": [
    {
     "name": "stdout",
     "output_type": "stream",
     "text": [
      "Ovearll testing accuracy:  1.0\n"
     ]
    }
   ],
   "source": [
    "\n",
    "test_accuracy = accuracy_score(test['Status'], test_predictions)\n",
    "print(\"Ovearll testing accuracy: \", test_accuracy)"
   ]
  },
  {
   "cell_type": "code",
   "execution_count": 25,
   "metadata": {},
   "outputs": [
    {
     "data": {
      "image/png": "[encoded data removed]",
      "text/plain": [
       "<Figure size 1008x432 with 4 Axes>"
      ]
     },
     "metadata": {
      "needs_background": "light"
     },
     "output_type": "display_data"
    }
   ],
   "source": [
    "\n",
    "status_of_signal = ['Statble','Transition','Unstable']\n",
    "plt.figure(figsize=(14,6))\n",
    "plt.subplot(121)\n",
    "sns.heatmap(train_confusion_matrix, annot= True,fmt = \"d\",\n",
    "xticklabels=status_of_signal, yticklabels=status_of_signal, cmap = \"Blues\")\n",
    "plt.title('Training Confusion Matrix')\n",
    "plt.xlabel('Predicted',fontsize = 20)\n",
    "plt.ylabel('True',fontsize = 20)\n",
    "\n",
    "plt.subplot(122)\n",
    "sns.heatmap(test_confusion_matrix, annot = True,\n",
    "xticklabels=status_of_signal, yticklabels=status_of_signal, cmap = \"Blues\")\n",
    "plt.title('Test Confusion Matrix')\n",
    "plt.xlabel('Predicted',fontsize = 20)\n",
    "plt.ylabel('True',fontsize = 20)\n",
    "#plt.savefig('confusion_logistic.jpg', dpi = 400)\n",
    "sns.set(font_scale = 1.5)\n",
    "plt.show()"
   ]
  },
  {
   "cell_type": "code",
   "execution_count": null,
   "metadata": {},
   "outputs": [],
   "source": []
  },
  {
   "cell_type": "code",
   "execution_count": 179,
   "metadata": {},
   "outputs": [],
   "source": [
    "with open('model_lr_8f_1234567','wb') as f:\n",
    "    pickle.dump(logistic_clf,f)"
   ]
  },
  {
   "cell_type": "code",
   "execution_count": 69,
   "metadata": {},
   "outputs": [
    {
     "data": {
      "text/plain": [
       "array([[-10.87250229,  -5.25327509,  -5.25293996,  -4.26170586,\n",
       "         -0.70599131,  -0.53699365,   1.73891049,   8.11036487],\n",
       "       [ -4.54415993,  -4.53919333,  -3.49997277,  -0.38200374,\n",
       "         -0.12159238,   0.54241302,   0.55712867,   2.78353241],\n",
       "       [ -4.6103921 ,  -1.61731812,  -0.02013502,   1.08799505,\n",
       "          3.71929283,   8.08896988,   9.79246841,   9.79709989]])"
      ]
     },
     "execution_count": 69,
     "metadata": {},
     "output_type": "execute_result"
    }
   ],
   "source": [
    "np.sort(logistic_clf.coef_)"
   ]
  },
  {
   "cell_type": "markdown",
   "metadata": {},
   "source": [
    "## Training decision tree"
   ]
  },
  {
   "cell_type": "code",
   "execution_count": 38,
   "metadata": {},
   "outputs": [],
   "source": [
    "from sklearn.tree import DecisionTreeClassifier\n",
    "from sklearn import tree\n"
   ]
  },
  {
   "cell_type": "code",
   "execution_count": 39,
   "metadata": {},
   "outputs": [],
   "source": [
    "dt = DecisionTreeClassifier(max_depth=4)"
   ]
  },
  {
   "cell_type": "code",
   "execution_count": 40,
   "metadata": {},
   "outputs": [
    {
     "data": {
      "text/plain": [
       "DecisionTreeClassifier(max_depth=4)"
      ]
     },
     "execution_count": 40,
     "metadata": {},
     "output_type": "execute_result"
    }
   ],
   "source": [
    "dt.fit(train_scaled, train['Status'])"
   ]
  },
  {
   "cell_type": "code",
   "execution_count": 41,
   "metadata": {},
   "outputs": [],
   "source": [
    "train_predict = dt.predict(train_scaled)\n",
    "test_predict = dt.predict(test_scaled)"
   ]
  },
  {
   "cell_type": "code",
   "execution_count": 42,
   "metadata": {},
   "outputs": [],
   "source": [
    "train_confusion = confusion_matrix(train['Status'], train_predict)\n",
    "test_confusion = confusion_matrix(test['Status'], test_predict)\n"
   ]
  },
  {
   "cell_type": "code",
   "execution_count": 43,
   "metadata": {},
   "outputs": [
    {
     "name": "stdout",
     "output_type": "stream",
     "text": [
      "Ovearll training accuracy:  1.0\n",
      "Ovearll testing accuracy:  1.0\n"
     ]
    }
   ],
   "source": [
    "train_accu = accuracy_score(train['Status'], train_predict)\n",
    "print(\"Ovearll training accuracy: \", train_accu)\n",
    "\n",
    "test_accu = accuracy_score(test['Status'], test_predict)\n",
    "print(\"Ovearll testing accuracy: \", test_accu)"
   ]
  },
  {
   "cell_type": "code",
   "execution_count": 44,
   "metadata": {},
   "outputs": [
    {
     "data": {
      "text/plain": [
       "[Text(398.57142857142856, 391.392, 'X[2] <= 0.549\\ngini = 0.66\\nsamples = 255\\nvalue = [93, 68, 94]'),\n",
       " Text(318.85714285714283, 304.416, 'X[3] <= -0.658\\ngini = 0.488\\nsamples = 161\\nvalue = [93, 68, 0]'),\n",
       " Text(239.1428571428571, 217.44, 'X[0] <= 0.072\\ngini = 0.061\\nsamples = 96\\nvalue = [93, 3, 0]'),\n",
       " Text(159.42857142857142, 130.464, 'X[5] <= -1.194\\ngini = 0.49\\nsamples = 7\\nvalue = [4, 3, 0]'),\n",
       " Text(79.71428571428571, 43.488, 'gini = 0.0\\nsamples = 4\\nvalue = [4, 0, 0]'),\n",
       " Text(239.1428571428571, 43.488, 'gini = 0.0\\nsamples = 3\\nvalue = [0, 3, 0]'),\n",
       " Text(318.85714285714283, 130.464, 'gini = 0.0\\nsamples = 89\\nvalue = [89, 0, 0]'),\n",
       " Text(398.57142857142856, 217.44, 'gini = 0.0\\nsamples = 65\\nvalue = [0, 65, 0]'),\n",
       " Text(478.2857142857142, 304.416, 'gini = 0.0\\nsamples = 94\\nvalue = [0, 0, 94]')]"
      ]
     },
     "execution_count": 44,
     "metadata": {},
     "output_type": "execute_result"
    },
    {
     "data": {
      "image/png": "[encoded data removed]",
      "text/plain": [
       "<Figure size 720x576 with 1 Axes>"
      ]
     },
     "metadata": {},
     "output_type": "display_data"
    }
   ],
   "source": [
    "plt.figure(figsize = (10,8))\n",
    "tree.plot_tree(dt) \n",
    "#plt.savefig('dt.jpg', dpi = 400)"
   ]
  },
  {
   "cell_type": "code",
   "execution_count": null,
   "metadata": {},
   "outputs": [],
   "source": []
  },
  {
   "cell_type": "code",
   "execution_count": 45,
   "metadata": {},
   "outputs": [
    {
     "data": {
      "image/png": "[encoded data removed]",
      "text/plain": [
       "<Figure size 1008x432 with 4 Axes>"
      ]
     },
     "metadata": {},
     "output_type": "display_data"
    }
   ],
   "source": [
    "status_of_signal = ['Statble','Transition','Unstable']\n",
    "plt.figure(figsize=(14,6))\n",
    "plt.subplot(121)\n",
    "sns.heatmap(train_confusion, annot= True,fmt = \"d\",\n",
    "xticklabels=status_of_signal, yticklabels=status_of_signal, cmap = \"Blues\")\n",
    "plt.title('Training Confusion Matrix')\n",
    "plt.xlabel('Predicted',fontsize = 20)\n",
    "plt.ylabel('True',fontsize = 20)\n",
    "\n",
    "plt.subplot(122)\n",
    "sns.heatmap(test_confusion, annot = True,\n",
    "xticklabels=status_of_signal, yticklabels=status_of_signal, cmap = \"Blues\")\n",
    "plt.title('Test Confusion Matrix')\n",
    "plt.xlabel('Predicted',fontsize = 20)\n",
    "plt.ylabel('True',fontsize = 20)\n",
    "plt.savefig('confusion_DecisionTree.jpg', dpi = 400)\n",
    "sns.set(font_scale = 1.5)\n",
    "plt.show()"
   ]
  },
  {
   "cell_type": "code",
   "execution_count": 46,
   "metadata": {},
   "outputs": [],
   "source": [
    "with open('model_dt_8f_1234567','wb') as f:\n",
    "    pickle.dump(dt,f)"
   ]
  },
  {
   "cell_type": "markdown",
   "metadata": {},
   "source": [
    "## Training SVM"
   ]
  },
  {
   "cell_type": "code",
   "execution_count": 26,
   "metadata": {},
   "outputs": [],
   "source": [
    "from sklearn.model_selection import GridSearchCV\n",
    "from sklearn.svm import SVC"
   ]
  },
  {
   "cell_type": "code",
   "execution_count": 27,
   "metadata": {},
   "outputs": [],
   "source": [
    "parameters = {\"C\":[1, 10, 50, 100, 300, 500],\n",
    "             'gamma':[0.01, 0.05, 0.1, 0.5, 1, 5],\n",
    "             'kernel':[\"rbf\"]}"
   ]
  },
  {
   "cell_type": "code",
   "execution_count": 28,
   "metadata": {},
   "outputs": [],
   "source": [
    "tuned_svm_clf = GridSearchCV(SVC(),parameters,n_jobs = -1, cv= 10)\n"
   ]
  },
  {
   "cell_type": "code",
   "execution_count": 29,
   "metadata": {},
   "outputs": [
    {
     "data": {
      "text/plain": [
       "GridSearchCV(cv=10, estimator=SVC(), n_jobs=-1,\n",
       "             param_grid={'C': [1, 10, 50, 100, 300, 500],\n",
       "                         'gamma': [0.01, 0.05, 0.1, 0.5, 1, 5],\n",
       "                         'kernel': ['rbf']})"
      ]
     },
     "execution_count": 29,
     "metadata": {},
     "output_type": "execute_result"
    }
   ],
   "source": [
    "tuned_svm_clf.fit(train_scaled, train['Status'])"
   ]
  },
  {
   "cell_type": "code",
   "execution_count": 30,
   "metadata": {},
   "outputs": [
    {
     "data": {
      "text/plain": [
       "0.9884615384615385"
      ]
     },
     "execution_count": 30,
     "metadata": {},
     "output_type": "execute_result"
    }
   ],
   "source": [
    "tuned_svm_clf.best_score_"
   ]
  },
  {
   "cell_type": "code",
   "execution_count": 31,
   "metadata": {},
   "outputs": [
    {
     "data": {
      "text/plain": [
       "{'C': 10, 'gamma': 0.1, 'kernel': 'rbf'}"
      ]
     },
     "execution_count": 31,
     "metadata": {},
     "output_type": "execute_result"
    }
   ],
   "source": [
    "tuned_svm_clf.best_params_"
   ]
  },
  {
   "cell_type": "code",
   "execution_count": 32,
   "metadata": {},
   "outputs": [
    {
     "data": {
      "text/plain": [
       "SVC(C=10, gamma=0.1)"
      ]
     },
     "execution_count": 32,
     "metadata": {},
     "output_type": "execute_result"
    }
   ],
   "source": [
    "best_clf = tuned_svm_clf.best_estimator_\n",
    "best_clf"
   ]
  },
  {
   "cell_type": "code",
   "execution_count": 33,
   "metadata": {},
   "outputs": [],
   "source": [
    "train_predictions_svm = best_clf.predict(train_scaled)\n",
    "test_predictions_svm = best_clf.predict(test_scaled)"
   ]
  },
  {
   "cell_type": "code",
   "execution_count": 34,
   "metadata": {},
   "outputs": [],
   "source": [
    "train_confu_matrix_svm = confusion_matrix(train['Status'], train_predictions_svm)\n",
    "test_confu_matrix_svm = confusion_matrix(test['Status'], test_predictions_svm)"
   ]
  },
  {
   "cell_type": "code",
   "execution_count": 35,
   "metadata": {},
   "outputs": [
    {
     "name": "stdout",
     "output_type": "stream",
     "text": [
      "Ovearll training accuracy:  0.9882352941176471\n",
      "Ovearll testing accuracy:  1.0\n"
     ]
    }
   ],
   "source": [
    "train_accu_svm = accuracy_score(train['Status'], train_predictions_svm)\n",
    "print(\"Ovearll training accuracy: \", train_accu_svm)\n",
    "\n",
    "test_accu_svm = accuracy_score(test['Status'], test_predictions_svm)\n",
    "print(\"Ovearll testing accuracy: \", test_accu_svm)"
   ]
  },
  {
   "cell_type": "code",
   "execution_count": 36,
   "metadata": {},
   "outputs": [
    {
     "data": {
      "image/png": "[encoded data removed]",
      "text/plain": [
       "<Figure size 1008x432 with 4 Axes>"
      ]
     },
     "metadata": {},
     "output_type": "display_data"
    }
   ],
   "source": [
    "status_of_signal = ['Statble','Transition','Unstable']\n",
    "plt.figure(figsize=(14,6))\n",
    "plt.subplot(121)\n",
    "sns.heatmap(train_confu_matrix_svm, annot= True,fmt = \"d\",\n",
    "xticklabels=status_of_signal, yticklabels=status_of_signal, cmap = \"Blues\")\n",
    "plt.title('Training Confusion Matrix')\n",
    "plt.xlabel('Predicted',fontsize = 20)\n",
    "plt.ylabel('True',fontsize = 20)\n",
    "\n",
    "plt.subplot(122)\n",
    "sns.heatmap(test_confu_matrix_svm, annot = True,\n",
    "xticklabels=status_of_signal, yticklabels=status_of_signal, cmap = \"Blues\")\n",
    "plt.title('Test Confusion Matrix')\n",
    "plt.xlabel('Predicted',fontsize = 20)\n",
    "plt.ylabel('True',fontsize = 20)\n",
    "plt.savefig('confusion_svm.jpg', dpi = 400)\n",
    "\n",
    "plt.show()"
   ]
  },
  {
   "cell_type": "code",
   "execution_count": 37,
   "metadata": {},
   "outputs": [],
   "source": [
    "with open('model_svm_8f_1234567','wb') as f:\n",
    "    pickle.dump(best_clf,f)"
   ]
  },
  {
   "cell_type": "code",
   "execution_count": null,
   "metadata": {},
   "outputs": [],
   "source": []
  },
  {
   "cell_type": "markdown",
   "metadata": {},
   "source": [
    "# Random forest"
   ]
  },
  {
   "cell_type": "code",
   "execution_count": 47,
   "metadata": {},
   "outputs": [],
   "source": [
    "from sklearn.ensemble import RandomForestClassifier"
   ]
  },
  {
   "cell_type": "code",
   "execution_count": 48,
   "metadata": {},
   "outputs": [],
   "source": [
    "rf_clf = RandomForestClassifier(n_estimators= 150, max_features = 4, n_jobs = -1, random_state = 892)"
   ]
  },
  {
   "cell_type": "code",
   "execution_count": 49,
   "metadata": {},
   "outputs": [
    {
     "data": {
      "text/plain": [
       "RandomForestClassifier(max_features=4, n_estimators=150, n_jobs=-1,\n",
       "                       random_state=892)"
      ]
     },
     "execution_count": 49,
     "metadata": {},
     "output_type": "execute_result"
    }
   ],
   "source": [
    "rf_clf.fit(train_scaled, train['Status'])"
   ]
  },
  {
   "cell_type": "code",
   "execution_count": 50,
   "metadata": {},
   "outputs": [],
   "source": [
    "train_predict_rf = rf_clf.predict(train_scaled)\n",
    "test_predict_rf = rf_clf.predict(test_scaled)"
   ]
  },
  {
   "cell_type": "code",
   "execution_count": 51,
   "metadata": {},
   "outputs": [],
   "source": [
    "train_confusion_rf = confusion_matrix(train['Status'], train_predict_rf)\n",
    "test_confusion_rf = confusion_matrix(test['Status'], test_predict_rf)\n"
   ]
  },
  {
   "cell_type": "code",
   "execution_count": 52,
   "metadata": {},
   "outputs": [
    {
     "name": "stdout",
     "output_type": "stream",
     "text": [
      "Ovearll training accuracy:  1.0\n",
      "Ovearll testing accuracy:  0.9882352941176471\n"
     ]
    }
   ],
   "source": [
    "train_accu = accuracy_score(train['Status'], train_predict_rf )\n",
    "print(\"Ovearll training accuracy: \", train_accu)\n",
    "\n",
    "test_accu = accuracy_score(test['Status'], test_predict_rf)\n",
    "print(\"Ovearll testing accuracy: \", test_accu)"
   ]
  },
  {
   "cell_type": "code",
   "execution_count": 53,
   "metadata": {},
   "outputs": [
    {
     "data": {
      "image/png": "[encoded data removed]",
      "text/plain": [
       "<Figure size 1008x432 with 4 Axes>"
      ]
     },
     "metadata": {},
     "output_type": "display_data"
    }
   ],
   "source": [
    "status_of_signal = ['Statble','Transition','Unstable']\n",
    "plt.figure(figsize=(14,6))\n",
    "plt.subplot(121)\n",
    "sns.heatmap(train_confusion_rf, annot= True,fmt = \"d\",\n",
    "xticklabels=status_of_signal, yticklabels=status_of_signal, cmap = \"Blues\")\n",
    "plt.title('Training Confusion Matrix')\n",
    "plt.xlabel('Predicted')\n",
    "plt.ylabel('True')\n",
    "\n",
    "plt.subplot(122)\n",
    "sns.heatmap(test_confusion_rf, annot = True,\n",
    "xticklabels=status_of_signal, yticklabels=status_of_signal, cmap = \"Blues\")\n",
    "plt.title('Test Confusion Matrix')\n",
    "plt.xlabel('Predicted')\n",
    "plt.ylabel('True')\n",
    "plt.savefig('confusion_svm.jpg', dpi = 400)\n",
    "plt.show()"
   ]
  },
  {
   "cell_type": "code",
   "execution_count": 54,
   "metadata": {},
   "outputs": [],
   "source": [
    "with open('model_rf_8f_1234567','wb') as f:\n",
    "    pickle.dump(rf_clf,f)"
   ]
  },
  {
   "cell_type": "code",
   "execution_count": null,
   "metadata": {},
   "outputs": [],
   "source": []
  }
 ],
 "metadata": {
  "kernelspec": {
   "display_name": "Python 3 (ipykernel)",
   "language": "python",
   "name": "python3"
  },
  "language_info": {
   "codemirror_mode": {
    "name": "ipython",
    "version": 3
   },
   "file_extension": ".py",
   "mimetype": "text/x-python",
   "name": "python",
   "nbconvert_exporter": "python",
   "pygments_lexer": "ipython3",
   "version": "3.9.7"
  }
 },
 "nbformat": 4,
 "nbformat_minor": 4
}
