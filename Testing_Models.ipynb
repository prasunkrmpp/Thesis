{
 "cells": [
  {
   "cell_type": "code",
   "execution_count": 1,
   "metadata": {},
   "outputs": [],
   "source": [
    "import pandas as pd\n",
    "import numpy as np\n",
    "from sklearn.model_selection import train_test_split\n",
    "from sklearn.preprocessing import StandardScaler\n",
    "from sklearn.linear_model import LogisticRegression\n",
    "from sklearn.metrics import confusion_matrix,accuracy_score\n",
    "import seaborn as sns\n",
    "import matplotlib.pyplot as plt\n",
    "import pickle"
   ]
  },
  {
   "cell_type": "code",
   "execution_count": 8,
   "metadata": {},
   "outputs": [],
   "source": [
    "data = pd.read_csv('features_time.csv')"
   ]
  },
  {
   "cell_type": "code",
   "execution_count": 9,
   "metadata": {},
   "outputs": [],
   "source": [
    "data['Status'] = pd.Categorical(data['Status'])"
   ]
  },
  {
   "cell_type": "code",
   "execution_count": 10,
   "metadata": {},
   "outputs": [
    {
     "data": {
      "text/plain": [
       "transition    120\n",
       "stable        120\n",
       "unstable      100\n",
       "Name: Status, dtype: int64"
      ]
     },
     "execution_count": 10,
     "metadata": {},
     "output_type": "execute_result"
    }
   ],
   "source": [
    "data['Status'].value_counts()"
   ]
  },
  {
   "cell_type": "code",
   "execution_count": 11,
   "metadata": {},
   "outputs": [
    {
     "data": {
      "text/html": [
       "<div>\n",
       "<style scoped>\n",
       "    .dataframe tbody tr th:only-of-type {\n",
       "        vertical-align: middle;\n",
       "    }\n",
       "\n",
       "    .dataframe tbody tr th {\n",
       "        vertical-align: top;\n",
       "    }\n",
       "\n",
       "    .dataframe thead th {\n",
       "        text-align: right;\n",
       "    }\n",
       "</style>\n",
       "<table border=\"1\" class=\"dataframe\">\n",
       "  <thead>\n",
       "    <tr style=\"text-align: right;\">\n",
       "      <th></th>\n",
       "      <th>Unnamed: 0</th>\n",
       "      <th>mean</th>\n",
       "      <th>std</th>\n",
       "      <th>rms</th>\n",
       "      <th>Peak-to-Peak</th>\n",
       "      <th>Kurtosis</th>\n",
       "      <th>Skewness</th>\n",
       "      <th>Crest</th>\n",
       "      <th>shape_factor</th>\n",
       "      <th>Status</th>\n",
       "    </tr>\n",
       "  </thead>\n",
       "  <tbody>\n",
       "    <tr>\n",
       "      <th>0</th>\n",
       "      <td>0</td>\n",
       "      <td>23.335318</td>\n",
       "      <td>15.047893</td>\n",
       "      <td>27.762475</td>\n",
       "      <td>99.317060</td>\n",
       "      <td>0.143753</td>\n",
       "      <td>-0.220421</td>\n",
       "      <td>2.410229</td>\n",
       "      <td>1.189719</td>\n",
       "      <td>stable</td>\n",
       "    </tr>\n",
       "    <tr>\n",
       "      <th>1</th>\n",
       "      <td>1</td>\n",
       "      <td>23.490211</td>\n",
       "      <td>17.022671</td>\n",
       "      <td>29.004799</td>\n",
       "      <td>140.822698</td>\n",
       "      <td>2.281786</td>\n",
       "      <td>0.251258</td>\n",
       "      <td>3.482453</td>\n",
       "      <td>1.234761</td>\n",
       "      <td>stable</td>\n",
       "    </tr>\n",
       "    <tr>\n",
       "      <th>2</th>\n",
       "      <td>2</td>\n",
       "      <td>21.615567</td>\n",
       "      <td>13.863735</td>\n",
       "      <td>25.675829</td>\n",
       "      <td>80.046586</td>\n",
       "      <td>-0.107346</td>\n",
       "      <td>0.181700</td>\n",
       "      <td>2.432906</td>\n",
       "      <td>1.187840</td>\n",
       "      <td>stable</td>\n",
       "    </tr>\n",
       "    <tr>\n",
       "      <th>3</th>\n",
       "      <td>3</td>\n",
       "      <td>21.496864</td>\n",
       "      <td>13.070224</td>\n",
       "      <td>25.155101</td>\n",
       "      <td>84.493619</td>\n",
       "      <td>0.541329</td>\n",
       "      <td>-0.382638</td>\n",
       "      <td>2.188628</td>\n",
       "      <td>1.170175</td>\n",
       "      <td>stable</td>\n",
       "    </tr>\n",
       "    <tr>\n",
       "      <th>4</th>\n",
       "      <td>4</td>\n",
       "      <td>20.521180</td>\n",
       "      <td>16.470847</td>\n",
       "      <td>26.308605</td>\n",
       "      <td>99.317060</td>\n",
       "      <td>0.126628</td>\n",
       "      <td>-0.111501</td>\n",
       "      <td>2.599768</td>\n",
       "      <td>1.282022</td>\n",
       "      <td>stable</td>\n",
       "    </tr>\n",
       "    <tr>\n",
       "      <th>...</th>\n",
       "      <td>...</td>\n",
       "      <td>...</td>\n",
       "      <td>...</td>\n",
       "      <td>...</td>\n",
       "      <td>...</td>\n",
       "      <td>...</td>\n",
       "      <td>...</td>\n",
       "      <td>...</td>\n",
       "      <td>...</td>\n",
       "      <td>...</td>\n",
       "    </tr>\n",
       "    <tr>\n",
       "      <th>335</th>\n",
       "      <td>335</td>\n",
       "      <td>38.530794</td>\n",
       "      <td>2699.395255</td>\n",
       "      <td>2698.351981</td>\n",
       "      <td>8886.653395</td>\n",
       "      <td>-1.409113</td>\n",
       "      <td>0.318021</td>\n",
       "      <td>1.921709</td>\n",
       "      <td>70.031051</td>\n",
       "      <td>unstable</td>\n",
       "    </tr>\n",
       "    <tr>\n",
       "      <th>336</th>\n",
       "      <td>336</td>\n",
       "      <td>63.813158</td>\n",
       "      <td>2736.100840</td>\n",
       "      <td>2735.508935</td>\n",
       "      <td>8842.183070</td>\n",
       "      <td>-1.421717</td>\n",
       "      <td>0.328107</td>\n",
       "      <td>1.862009</td>\n",
       "      <td>42.867475</td>\n",
       "      <td>unstable</td>\n",
       "    </tr>\n",
       "    <tr>\n",
       "      <th>337</th>\n",
       "      <td>337</td>\n",
       "      <td>49.403730</td>\n",
       "      <td>2715.152553</td>\n",
       "      <td>2714.276117</td>\n",
       "      <td>8822.912595</td>\n",
       "      <td>-1.432751</td>\n",
       "      <td>0.327478</td>\n",
       "      <td>1.874937</td>\n",
       "      <td>54.940712</td>\n",
       "      <td>unstable</td>\n",
       "    </tr>\n",
       "    <tr>\n",
       "      <th>338</th>\n",
       "      <td>338</td>\n",
       "      <td>51.300089</td>\n",
       "      <td>2744.434620</td>\n",
       "      <td>2743.573890</td>\n",
       "      <td>9117.899088</td>\n",
       "      <td>-1.421678</td>\n",
       "      <td>0.326265</td>\n",
       "      <td>1.894897</td>\n",
       "      <td>53.480880</td>\n",
       "      <td>unstable</td>\n",
       "    </tr>\n",
       "    <tr>\n",
       "      <th>339</th>\n",
       "      <td>339</td>\n",
       "      <td>43.862311</td>\n",
       "      <td>2764.849295</td>\n",
       "      <td>2763.847011</td>\n",
       "      <td>8843.665414</td>\n",
       "      <td>-1.431190</td>\n",
       "      <td>0.326436</td>\n",
       "      <td>1.834873</td>\n",
       "      <td>63.011888</td>\n",
       "      <td>unstable</td>\n",
       "    </tr>\n",
       "  </tbody>\n",
       "</table>\n",
       "<p>340 rows × 10 columns</p>\n",
       "</div>"
      ],
      "text/plain": [
       "     Unnamed: 0       mean          std          rms  Peak-to-Peak  Kurtosis  \\\n",
       "0             0  23.335318    15.047893    27.762475     99.317060  0.143753   \n",
       "1             1  23.490211    17.022671    29.004799    140.822698  2.281786   \n",
       "2             2  21.615567    13.863735    25.675829     80.046586 -0.107346   \n",
       "3             3  21.496864    13.070224    25.155101     84.493619  0.541329   \n",
       "4             4  20.521180    16.470847    26.308605     99.317060  0.126628   \n",
       "..          ...        ...          ...          ...           ...       ...   \n",
       "335         335  38.530794  2699.395255  2698.351981   8886.653395 -1.409113   \n",
       "336         336  63.813158  2736.100840  2735.508935   8842.183070 -1.421717   \n",
       "337         337  49.403730  2715.152553  2714.276117   8822.912595 -1.432751   \n",
       "338         338  51.300089  2744.434620  2743.573890   9117.899088 -1.421678   \n",
       "339         339  43.862311  2764.849295  2763.847011   8843.665414 -1.431190   \n",
       "\n",
       "     Skewness     Crest  shape_factor    Status  \n",
       "0   -0.220421  2.410229      1.189719    stable  \n",
       "1    0.251258  3.482453      1.234761    stable  \n",
       "2    0.181700  2.432906      1.187840    stable  \n",
       "3   -0.382638  2.188628      1.170175    stable  \n",
       "4   -0.111501  2.599768      1.282022    stable  \n",
       "..        ...       ...           ...       ...  \n",
       "335  0.318021  1.921709     70.031051  unstable  \n",
       "336  0.328107  1.862009     42.867475  unstable  \n",
       "337  0.327478  1.874937     54.940712  unstable  \n",
       "338  0.326265  1.894897     53.480880  unstable  \n",
       "339  0.326436  1.834873     63.011888  unstable  \n",
       "\n",
       "[340 rows x 10 columns]"
      ]
     },
     "execution_count": 11,
     "metadata": {},
     "output_type": "execute_result"
    }
   ],
   "source": [
    "data"
   ]
  },
  {
   "cell_type": "code",
   "execution_count": 13,
   "metadata": {},
   "outputs": [],
   "source": [
    "test = data.drop(['Unnamed: 0'],axis=1)\n",
    "#test = data.drop(['Unnamed: 0','RMS'],axis=1)\n",
    "#test = data.drop(['Unnamed: 0','RMS','Peak-to-Peak'],axis=1)"
   ]
  },
  {
   "cell_type": "code",
   "execution_count": 14,
   "metadata": {},
   "outputs": [
    {
     "data": {
      "text/html": [
       "<div>\n",
       "<style scoped>\n",
       "    .dataframe tbody tr th:only-of-type {\n",
       "        vertical-align: middle;\n",
       "    }\n",
       "\n",
       "    .dataframe tbody tr th {\n",
       "        vertical-align: top;\n",
       "    }\n",
       "\n",
       "    .dataframe thead th {\n",
       "        text-align: right;\n",
       "    }\n",
       "</style>\n",
       "<table border=\"1\" class=\"dataframe\">\n",
       "  <thead>\n",
       "    <tr style=\"text-align: right;\">\n",
       "      <th></th>\n",
       "      <th>mean</th>\n",
       "      <th>std</th>\n",
       "      <th>rms</th>\n",
       "      <th>Peak-to-Peak</th>\n",
       "      <th>Kurtosis</th>\n",
       "      <th>Skewness</th>\n",
       "      <th>Crest</th>\n",
       "      <th>shape_factor</th>\n",
       "    </tr>\n",
       "  </thead>\n",
       "  <tbody>\n",
       "    <tr>\n",
       "      <th>0</th>\n",
       "      <td>23.335318</td>\n",
       "      <td>15.047893</td>\n",
       "      <td>27.762475</td>\n",
       "      <td>99.317060</td>\n",
       "      <td>0.143753</td>\n",
       "      <td>-0.220421</td>\n",
       "      <td>2.410229</td>\n",
       "      <td>1.189719</td>\n",
       "    </tr>\n",
       "    <tr>\n",
       "      <th>1</th>\n",
       "      <td>23.490211</td>\n",
       "      <td>17.022671</td>\n",
       "      <td>29.004799</td>\n",
       "      <td>140.822698</td>\n",
       "      <td>2.281786</td>\n",
       "      <td>0.251258</td>\n",
       "      <td>3.482453</td>\n",
       "      <td>1.234761</td>\n",
       "    </tr>\n",
       "    <tr>\n",
       "      <th>2</th>\n",
       "      <td>21.615567</td>\n",
       "      <td>13.863735</td>\n",
       "      <td>25.675829</td>\n",
       "      <td>80.046586</td>\n",
       "      <td>-0.107346</td>\n",
       "      <td>0.181700</td>\n",
       "      <td>2.432906</td>\n",
       "      <td>1.187840</td>\n",
       "    </tr>\n",
       "    <tr>\n",
       "      <th>3</th>\n",
       "      <td>21.496864</td>\n",
       "      <td>13.070224</td>\n",
       "      <td>25.155101</td>\n",
       "      <td>84.493619</td>\n",
       "      <td>0.541329</td>\n",
       "      <td>-0.382638</td>\n",
       "      <td>2.188628</td>\n",
       "      <td>1.170175</td>\n",
       "    </tr>\n",
       "    <tr>\n",
       "      <th>4</th>\n",
       "      <td>20.521180</td>\n",
       "      <td>16.470847</td>\n",
       "      <td>26.308605</td>\n",
       "      <td>99.317060</td>\n",
       "      <td>0.126628</td>\n",
       "      <td>-0.111501</td>\n",
       "      <td>2.599768</td>\n",
       "      <td>1.282022</td>\n",
       "    </tr>\n",
       "    <tr>\n",
       "      <th>...</th>\n",
       "      <td>...</td>\n",
       "      <td>...</td>\n",
       "      <td>...</td>\n",
       "      <td>...</td>\n",
       "      <td>...</td>\n",
       "      <td>...</td>\n",
       "      <td>...</td>\n",
       "      <td>...</td>\n",
       "    </tr>\n",
       "    <tr>\n",
       "      <th>335</th>\n",
       "      <td>38.530794</td>\n",
       "      <td>2699.395255</td>\n",
       "      <td>2698.351981</td>\n",
       "      <td>8886.653395</td>\n",
       "      <td>-1.409113</td>\n",
       "      <td>0.318021</td>\n",
       "      <td>1.921709</td>\n",
       "      <td>70.031051</td>\n",
       "    </tr>\n",
       "    <tr>\n",
       "      <th>336</th>\n",
       "      <td>63.813158</td>\n",
       "      <td>2736.100840</td>\n",
       "      <td>2735.508935</td>\n",
       "      <td>8842.183070</td>\n",
       "      <td>-1.421717</td>\n",
       "      <td>0.328107</td>\n",
       "      <td>1.862009</td>\n",
       "      <td>42.867475</td>\n",
       "    </tr>\n",
       "    <tr>\n",
       "      <th>337</th>\n",
       "      <td>49.403730</td>\n",
       "      <td>2715.152553</td>\n",
       "      <td>2714.276117</td>\n",
       "      <td>8822.912595</td>\n",
       "      <td>-1.432751</td>\n",
       "      <td>0.327478</td>\n",
       "      <td>1.874937</td>\n",
       "      <td>54.940712</td>\n",
       "    </tr>\n",
       "    <tr>\n",
       "      <th>338</th>\n",
       "      <td>51.300089</td>\n",
       "      <td>2744.434620</td>\n",
       "      <td>2743.573890</td>\n",
       "      <td>9117.899088</td>\n",
       "      <td>-1.421678</td>\n",
       "      <td>0.326265</td>\n",
       "      <td>1.894897</td>\n",
       "      <td>53.480880</td>\n",
       "    </tr>\n",
       "    <tr>\n",
       "      <th>339</th>\n",
       "      <td>43.862311</td>\n",
       "      <td>2764.849295</td>\n",
       "      <td>2763.847011</td>\n",
       "      <td>8843.665414</td>\n",
       "      <td>-1.431190</td>\n",
       "      <td>0.326436</td>\n",
       "      <td>1.834873</td>\n",
       "      <td>63.011888</td>\n",
       "    </tr>\n",
       "  </tbody>\n",
       "</table>\n",
       "<p>340 rows × 8 columns</p>\n",
       "</div>"
      ],
      "text/plain": [
       "          mean          std          rms  Peak-to-Peak  Kurtosis  Skewness  \\\n",
       "0    23.335318    15.047893    27.762475     99.317060  0.143753 -0.220421   \n",
       "1    23.490211    17.022671    29.004799    140.822698  2.281786  0.251258   \n",
       "2    21.615567    13.863735    25.675829     80.046586 -0.107346  0.181700   \n",
       "3    21.496864    13.070224    25.155101     84.493619  0.541329 -0.382638   \n",
       "4    20.521180    16.470847    26.308605     99.317060  0.126628 -0.111501   \n",
       "..         ...          ...          ...           ...       ...       ...   \n",
       "335  38.530794  2699.395255  2698.351981   8886.653395 -1.409113  0.318021   \n",
       "336  63.813158  2736.100840  2735.508935   8842.183070 -1.421717  0.328107   \n",
       "337  49.403730  2715.152553  2714.276117   8822.912595 -1.432751  0.327478   \n",
       "338  51.300089  2744.434620  2743.573890   9117.899088 -1.421678  0.326265   \n",
       "339  43.862311  2764.849295  2763.847011   8843.665414 -1.431190  0.326436   \n",
       "\n",
       "        Crest  shape_factor  \n",
       "0    2.410229      1.189719  \n",
       "1    3.482453      1.234761  \n",
       "2    2.432906      1.187840  \n",
       "3    2.188628      1.170175  \n",
       "4    2.599768      1.282022  \n",
       "..        ...           ...  \n",
       "335  1.921709     70.031051  \n",
       "336  1.862009     42.867475  \n",
       "337  1.874937     54.940712  \n",
       "338  1.894897     53.480880  \n",
       "339  1.834873     63.011888  \n",
       "\n",
       "[340 rows x 8 columns]"
      ]
     },
     "execution_count": 14,
     "metadata": {},
     "output_type": "execute_result"
    }
   ],
   "source": [
    "test.iloc[:,:-1]"
   ]
  },
  {
   "cell_type": "code",
   "execution_count": 15,
   "metadata": {},
   "outputs": [],
   "source": [
    "scaler = StandardScaler().fit(test.iloc[:,:-1])"
   ]
  },
  {
   "cell_type": "code",
   "execution_count": 16,
   "metadata": {},
   "outputs": [],
   "source": [
    "test_scaled = (test.iloc[:,:-1].values - scaler.mean_)/np.sqrt(scaler.var_)"
   ]
  },
  {
   "cell_type": "code",
   "execution_count": null,
   "metadata": {},
   "outputs": [],
   "source": []
  },
  {
   "cell_type": "code",
   "execution_count": 17,
   "metadata": {},
   "outputs": [],
   "source": [
    "with open('model_lr_8f_all','rb') as f:\n",
    "    lrm = pickle.load(f)"
   ]
  },
  {
   "cell_type": "code",
   "execution_count": 18,
   "metadata": {},
   "outputs": [],
   "source": [
    "test_predictions = lrm.predict(test_scaled)"
   ]
  },
  {
   "cell_type": "code",
   "execution_count": null,
   "metadata": {},
   "outputs": [],
   "source": []
  },
  {
   "cell_type": "markdown",
   "metadata": {},
   "source": [
    "## Confusion Matrices"
   ]
  },
  {
   "cell_type": "code",
   "execution_count": 19,
   "metadata": {},
   "outputs": [],
   "source": [
    "test_confusion_matrix = confusion_matrix(test['Status'], test_predictions)\n"
   ]
  },
  {
   "cell_type": "markdown",
   "metadata": {},
   "source": [
    "### Acuracy Calculation"
   ]
  },
  {
   "cell_type": "code",
   "execution_count": 20,
   "metadata": {},
   "outputs": [
    {
     "name": "stdout",
     "output_type": "stream",
     "text": [
      "Ovearll testing accuracy:  0.7588235294117647\n"
     ]
    }
   ],
   "source": [
    "\n",
    "test_accuracy = accuracy_score(test['Status'], test_predictions)\n",
    "print(\"Ovearll testing accuracy: \", test_accuracy)"
   ]
  },
  {
   "cell_type": "code",
   "execution_count": 21,
   "metadata": {},
   "outputs": [
    {
     "data": {
      "image/png": "[encoded data removed]",
      "text/plain": [
       "<Figure size 1008x432 with 2 Axes>"
      ]
     },
     "metadata": {
      "needs_background": "light"
     },
     "output_type": "display_data"
    }
   ],
   "source": [
    "\n",
    "status_of_signal = ['Statble','Transition','Unstable']\n",
    "plt.figure(figsize=(14,6))\n",
    "plt.subplot(121)\n",
    "sns.heatmap(test_confusion_matrix, annot= True,fmt = \"d\",\n",
    "xticklabels=status_of_signal, yticklabels=status_of_signal, cmap = \"Blues\")\n",
    "plt.title('Training Confusion Matrix')\n",
    "plt.xlabel('Predicted')\n",
    "plt.ylabel('True')\n",
    "\n",
    "\n",
    "plt.show()"
   ]
  },
  {
   "cell_type": "markdown",
   "metadata": {},
   "source": [
    "## Testing decision tree"
   ]
  },
  {
   "cell_type": "code",
   "execution_count": 22,
   "metadata": {},
   "outputs": [],
   "source": [
    "\n",
    "from sklearn import tree\n"
   ]
  },
  {
   "cell_type": "code",
   "execution_count": 23,
   "metadata": {},
   "outputs": [],
   "source": [
    "with open('model_dt_8f_all','rb') as f:\n",
    "    dt= pickle.load(f)"
   ]
  },
  {
   "cell_type": "code",
   "execution_count": 24,
   "metadata": {},
   "outputs": [],
   "source": [
    "test_predict = dt.predict(test_scaled)"
   ]
  },
  {
   "cell_type": "code",
   "execution_count": 25,
   "metadata": {},
   "outputs": [],
   "source": [
    "test_confusion = confusion_matrix(test['Status'], test_predict)\n"
   ]
  },
  {
   "cell_type": "code",
   "execution_count": 26,
   "metadata": {},
   "outputs": [
    {
     "name": "stdout",
     "output_type": "stream",
     "text": [
      "Ovearll testing accuracy:  0.4970588235294118\n"
     ]
    }
   ],
   "source": [
    "test_accu = accuracy_score(test['Status'], test_predict)\n",
    "print(\"Ovearll testing accuracy: \", test_accu)"
   ]
  },
  {
   "cell_type": "code",
   "execution_count": 27,
   "metadata": {},
   "outputs": [
    {
     "data": {
      "image/png": "[encoded data removed]",
      "text/plain": [
       "<Figure size 720x576 with 1 Axes>"
      ]
     },
     "metadata": {
      "needs_background": "light"
     },
     "output_type": "display_data"
    }
   ],
   "source": [
    "plt.figure(figsize = (10,8))\n",
    "tree.plot_tree(dt) \n",
    "plt.savefig('dt.jpg', dpi = 400)"
   ]
  },
  {
   "cell_type": "code",
   "execution_count": null,
   "metadata": {},
   "outputs": [],
   "source": []
  },
  {
   "cell_type": "code",
   "execution_count": 28,
   "metadata": {},
   "outputs": [
    {
     "data": {
      "image/png": "[encoded data removed]",
      "text/plain": [
       "<Figure size 1008x432 with 2 Axes>"
      ]
     },
     "metadata": {
      "needs_background": "light"
     },
     "output_type": "display_data"
    }
   ],
   "source": [
    "status_of_signal = ['Statble','Transition','Unstable']\n",
    "plt.figure(figsize=(14,6))\n",
    "plt.subplot(121)\n",
    "sns.heatmap(test_confusion, annot= True,fmt = \"d\",\n",
    "xticklabels=status_of_signal, yticklabels=status_of_signal, cmap = \"Blues\")\n",
    "plt.title('Training Confusion Matrix')\n",
    "plt.xlabel('Predicted')\n",
    "plt.ylabel('True')\n",
    "\n",
    "plt.show()"
   ]
  },
  {
   "cell_type": "markdown",
   "metadata": {},
   "source": [
    "## Testing SVM"
   ]
  },
  {
   "cell_type": "code",
   "execution_count": 29,
   "metadata": {},
   "outputs": [],
   "source": [
    "with open('model_svm_8f_all','rb') as f:\n",
    "    svm= pickle.load(f)"
   ]
  },
  {
   "cell_type": "code",
   "execution_count": null,
   "metadata": {},
   "outputs": [],
   "source": []
  },
  {
   "cell_type": "code",
   "execution_count": null,
   "metadata": {},
   "outputs": [],
   "source": []
  },
  {
   "cell_type": "code",
   "execution_count": 30,
   "metadata": {},
   "outputs": [],
   "source": [
    "test_predictions_svm = svm.predict(test_scaled)"
   ]
  },
  {
   "cell_type": "code",
   "execution_count": 31,
   "metadata": {},
   "outputs": [
    {
     "name": "stdout",
     "output_type": "stream",
     "text": [
      "Ovearll testing accuracy:  0.47352941176470587\n"
     ]
    }
   ],
   "source": [
    "test_accu = accuracy_score(test['Status'], test_predictions_svm)\n",
    "print(\"Ovearll testing accuracy: \", test_accu)"
   ]
  },
  {
   "cell_type": "code",
   "execution_count": 32,
   "metadata": {},
   "outputs": [],
   "source": [
    "test_confu_matrix_svm = confusion_matrix(test['Status'], test_predictions_svm)"
   ]
  },
  {
   "cell_type": "code",
   "execution_count": 33,
   "metadata": {},
   "outputs": [
    {
     "data": {
      "image/png": "[encoded data removed]",
      "text/plain": [
       "<Figure size 1008x432 with 2 Axes>"
      ]
     },
     "metadata": {
      "needs_background": "light"
     },
     "output_type": "display_data"
    }
   ],
   "source": [
    "status_of_signal = ['Statble','Transition','Unstable']\n",
    "plt.figure(figsize=(14,6))\n",
    "plt.subplot(121)\n",
    "sns.heatmap(test_confu_matrix_svm, annot= True,fmt = \"d\",\n",
    "xticklabels=status_of_signal, yticklabels=status_of_signal, cmap = \"Blues\")\n",
    "plt.title('Training Confusion Matrix')\n",
    "plt.xlabel('Predicted')\n",
    "plt.ylabel('True')\n",
    "\n",
    "plt.show()"
   ]
  },
  {
   "cell_type": "markdown",
   "metadata": {},
   "source": [
    "## random forest"
   ]
  },
  {
   "cell_type": "code",
   "execution_count": 35,
   "metadata": {},
   "outputs": [],
   "source": [
    "\n",
    "with open('model_rf_8f_all','rb') as f:\n",
    "    rf= pickle.load(f)\n",
    "\n"
   ]
  },
  {
   "cell_type": "code",
   "execution_count": 36,
   "metadata": {},
   "outputs": [],
   "source": [
    "\n",
    "test_predictions_rf = rf.predict(test_scaled)\n"
   ]
  },
  {
   "cell_type": "code",
   "execution_count": 37,
   "metadata": {},
   "outputs": [
    {
     "name": "stdout",
     "output_type": "stream",
     "text": [
      "Ovearll testing accuracy:  0.5911764705882353\n"
     ]
    }
   ],
   "source": [
    "test_accu = accuracy_score(test['Status'], test_predictions_rf)\n",
    "print(\"Ovearll testing accuracy: \", test_accu)\n",
    "\n"
   ]
  },
  {
   "cell_type": "code",
   "execution_count": 38,
   "metadata": {},
   "outputs": [],
   "source": [
    "test_confu_matrix_rf= confusion_matrix(test['Status'], test_predictions_rf)\n"
   ]
  },
  {
   "cell_type": "code",
   "execution_count": 39,
   "metadata": {},
   "outputs": [
    {
     "data": {
      "image/png": "[encoded data removed]",
      "text/plain": [
       "<Figure size 1008x432 with 2 Axes>"
      ]
     },
     "metadata": {
      "needs_background": "light"
     },
     "output_type": "display_data"
    }
   ],
   "source": [
    "status_of_signal = ['Statble','Transition','Unstable']\n",
    "plt.figure(figsize=(14,6))\n",
    "plt.subplot(121)\n",
    "sns.heatmap(test_confu_matrix_rf, annot= True,fmt = \"d\",\n",
    "xticklabels=status_of_signal, yticklabels=status_of_signal, cmap = \"Blues\")\n",
    "plt.title('Training Confusion Matrix')\n",
    "plt.xlabel('Predicted')\n",
    "plt.ylabel('True')\n",
    "\n",
    "plt.show()"
   ]
  },
  {
   "cell_type": "markdown",
   "metadata": {},
   "source": [
    "## Bagging"
   ]
  },
  {
   "cell_type": "code",
   "execution_count": 41,
   "metadata": {},
   "outputs": [],
   "source": [
    "\n",
    "with open('model_bag_8f_all','rb') as f:\n",
    "    bag= pickle.load(f)\n",
    "\n"
   ]
  },
  {
   "cell_type": "code",
   "execution_count": 42,
   "metadata": {},
   "outputs": [],
   "source": [
    "test_predictions_bag = bag.predict(test_scaled)\n"
   ]
  },
  {
   "cell_type": "code",
   "execution_count": 43,
   "metadata": {},
   "outputs": [
    {
     "name": "stdout",
     "output_type": "stream",
     "text": [
      "Ovearll testing accuracy:  0.4264705882352941\n"
     ]
    }
   ],
   "source": [
    "test_accu = accuracy_score(test['Status'], test_predictions_bag)\n",
    "print(\"Ovearll testing accuracy: \", test_accu)\n"
   ]
  },
  {
   "cell_type": "code",
   "execution_count": 44,
   "metadata": {},
   "outputs": [],
   "source": [
    "test_confu_matrix_bag= confusion_matrix(test['Status'], test_predictions_bag)\n",
    "\n"
   ]
  },
  {
   "cell_type": "code",
   "execution_count": 45,
   "metadata": {},
   "outputs": [
    {
     "data": {
      "image/png": "[encoded data removed]",
      "text/plain": [
       "<Figure size 1008x432 with 2 Axes>"
      ]
     },
     "metadata": {
      "needs_background": "light"
     },
     "output_type": "display_data"
    }
   ],
   "source": [
    "status_of_signal = ['Statble','Transition','Unstable']\n",
    "plt.figure(figsize=(14,6))\n",
    "plt.subplot(121)\n",
    "sns.heatmap(test_confu_matrix_bag, annot= True,fmt = \"d\",\n",
    "xticklabels=status_of_signal, yticklabels=status_of_signal, cmap = \"Blues\")\n",
    "plt.title('Training Confusion Matrix')\n",
    "plt.xlabel('Predicted')\n",
    "plt.ylabel('True')\n",
    "\n",
    "plt.show()"
   ]
  },
  {
   "cell_type": "code",
   "execution_count": null,
   "metadata": {},
   "outputs": [],
   "source": []
  }
 ],
 "metadata": {
  "kernelspec": {
   "display_name": "Python 3 (ipykernel)",
   "language": "python",
   "name": "python3"
  },
  "language_info": {
   "codemirror_mode": {
    "name": "ipython",
    "version": 3
   },
   "file_extension": ".py",
   "mimetype": "text/x-python",
   "name": "python",
   "nbconvert_exporter": "python",
   "pygments_lexer": "ipython3",
   "version": "3.9.7"
  }
 },
 "nbformat": 4,
 "nbformat_minor": 4
}
