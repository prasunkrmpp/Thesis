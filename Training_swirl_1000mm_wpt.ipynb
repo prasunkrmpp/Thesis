{
 "cells": [
  {
   "cell_type": "code",
   "execution_count": 1,
   "metadata": {},
   "outputs": [],
   "source": [
    "import pandas as pd\n",
    "import numpy as np\n",
    "from sklearn.model_selection import train_test_split\n",
    "from sklearn.preprocessing import StandardScaler\n",
    "from sklearn.linear_model import LogisticRegression\n",
    "from sklearn.metrics import confusion_matrix,accuracy_score\n",
    "import seaborn as sns\n",
    "import matplotlib.pyplot as plt\n",
    "import pickle"
   ]
  },
  {
   "cell_type": "code",
   "execution_count": 2,
   "metadata": {},
   "outputs": [],
   "source": [
    "data = pd.read_csv('feature_matrix_wpt8.csv')"
   ]
  },
  {
   "cell_type": "code",
   "execution_count": 3,
   "metadata": {},
   "outputs": [
    {
     "data": {
      "text/html": [
       "<div>\n",
       "<style scoped>\n",
       "    .dataframe tbody tr th:only-of-type {\n",
       "        vertical-align: middle;\n",
       "    }\n",
       "\n",
       "    .dataframe tbody tr th {\n",
       "        vertical-align: top;\n",
       "    }\n",
       "\n",
       "    .dataframe thead th {\n",
       "        text-align: right;\n",
       "    }\n",
       "</style>\n",
       "<table border=\"1\" class=\"dataframe\">\n",
       "  <thead>\n",
       "    <tr style=\"text-align: right;\">\n",
       "      <th></th>\n",
       "      <th>Unnamed: 0</th>\n",
       "      <th>0</th>\n",
       "      <th>1</th>\n",
       "      <th>2</th>\n",
       "      <th>3</th>\n",
       "      <th>4</th>\n",
       "      <th>5</th>\n",
       "      <th>6</th>\n",
       "      <th>7</th>\n",
       "      <th>Status</th>\n",
       "    </tr>\n",
       "  </thead>\n",
       "  <tbody>\n",
       "    <tr>\n",
       "      <th>0</th>\n",
       "      <td>0</td>\n",
       "      <td>755098.844297</td>\n",
       "      <td>32377.390158</td>\n",
       "      <td>625.731673</td>\n",
       "      <td>1931.027467</td>\n",
       "      <td>421.751580</td>\n",
       "      <td>380.141275</td>\n",
       "      <td>442.372493</td>\n",
       "      <td>484.972989</td>\n",
       "      <td>stable</td>\n",
       "    </tr>\n",
       "    <tr>\n",
       "      <th>1</th>\n",
       "      <td>1</td>\n",
       "      <td>831683.901430</td>\n",
       "      <td>29011.091262</td>\n",
       "      <td>863.279587</td>\n",
       "      <td>1835.594656</td>\n",
       "      <td>307.304260</td>\n",
       "      <td>343.268007</td>\n",
       "      <td>432.625663</td>\n",
       "      <td>382.840166</td>\n",
       "      <td>stable</td>\n",
       "    </tr>\n",
       "    <tr>\n",
       "      <th>2</th>\n",
       "      <td>2</td>\n",
       "      <td>663475.388321</td>\n",
       "      <td>16025.929768</td>\n",
       "      <td>631.771612</td>\n",
       "      <td>1605.434712</td>\n",
       "      <td>348.666856</td>\n",
       "      <td>438.108110</td>\n",
       "      <td>350.250748</td>\n",
       "      <td>436.015551</td>\n",
       "      <td>stable</td>\n",
       "    </tr>\n",
       "    <tr>\n",
       "      <th>3</th>\n",
       "      <td>3</td>\n",
       "      <td>625635.744572</td>\n",
       "      <td>18766.645086</td>\n",
       "      <td>444.307103</td>\n",
       "      <td>1023.725925</td>\n",
       "      <td>428.968524</td>\n",
       "      <td>366.537116</td>\n",
       "      <td>301.793212</td>\n",
       "      <td>427.229202</td>\n",
       "      <td>stable</td>\n",
       "    </tr>\n",
       "    <tr>\n",
       "      <th>4</th>\n",
       "      <td>4</td>\n",
       "      <td>693645.190262</td>\n",
       "      <td>13989.774507</td>\n",
       "      <td>623.942054</td>\n",
       "      <td>1632.583476</td>\n",
       "      <td>440.897150</td>\n",
       "      <td>355.007638</td>\n",
       "      <td>472.713992</td>\n",
       "      <td>408.486105</td>\n",
       "      <td>stable</td>\n",
       "    </tr>\n",
       "  </tbody>\n",
       "</table>\n",
       "</div>"
      ],
      "text/plain": [
       "   Unnamed: 0              0             1           2            3  \\\n",
       "0           0  755098.844297  32377.390158  625.731673  1931.027467   \n",
       "1           1  831683.901430  29011.091262  863.279587  1835.594656   \n",
       "2           2  663475.388321  16025.929768  631.771612  1605.434712   \n",
       "3           3  625635.744572  18766.645086  444.307103  1023.725925   \n",
       "4           4  693645.190262  13989.774507  623.942054  1632.583476   \n",
       "\n",
       "            4           5           6           7  Status  \n",
       "0  421.751580  380.141275  442.372493  484.972989  stable  \n",
       "1  307.304260  343.268007  432.625663  382.840166  stable  \n",
       "2  348.666856  438.108110  350.250748  436.015551  stable  \n",
       "3  428.968524  366.537116  301.793212  427.229202  stable  \n",
       "4  440.897150  355.007638  472.713992  408.486105  stable  "
      ]
     },
     "execution_count": 3,
     "metadata": {},
     "output_type": "execute_result"
    }
   ],
   "source": [
    "data.head()"
   ]
  },
  {
   "cell_type": "code",
   "execution_count": 4,
   "metadata": {},
   "outputs": [],
   "source": [
    "data = data.drop(['Unnamed: 0'],axis=1)\n",
    "#data = data.drop(['Unnamed: 0','RMS'],axis=1)\n",
    "#data = data.drop(['Unnamed: 0','RMS','Peak-to-Peak'],axis=1)"
   ]
  },
  {
   "cell_type": "code",
   "execution_count": 5,
   "metadata": {},
   "outputs": [
    {
     "data": {
      "text/html": [
       "<div>\n",
       "<style scoped>\n",
       "    .dataframe tbody tr th:only-of-type {\n",
       "        vertical-align: middle;\n",
       "    }\n",
       "\n",
       "    .dataframe tbody tr th {\n",
       "        vertical-align: top;\n",
       "    }\n",
       "\n",
       "    .dataframe thead th {\n",
       "        text-align: right;\n",
       "    }\n",
       "</style>\n",
       "<table border=\"1\" class=\"dataframe\">\n",
       "  <thead>\n",
       "    <tr style=\"text-align: right;\">\n",
       "      <th></th>\n",
       "      <th>0</th>\n",
       "      <th>1</th>\n",
       "      <th>2</th>\n",
       "      <th>3</th>\n",
       "      <th>4</th>\n",
       "      <th>5</th>\n",
       "      <th>6</th>\n",
       "      <th>7</th>\n",
       "      <th>Status</th>\n",
       "    </tr>\n",
       "  </thead>\n",
       "  <tbody>\n",
       "    <tr>\n",
       "      <th>0</th>\n",
       "      <td>7.550988e+05</td>\n",
       "      <td>3.237739e+04</td>\n",
       "      <td>6.257317e+02</td>\n",
       "      <td>1.931027e+03</td>\n",
       "      <td>421.751580</td>\n",
       "      <td>380.141275</td>\n",
       "      <td>4.423725e+02</td>\n",
       "      <td>484.972989</td>\n",
       "      <td>stable</td>\n",
       "    </tr>\n",
       "    <tr>\n",
       "      <th>1</th>\n",
       "      <td>8.316839e+05</td>\n",
       "      <td>2.901109e+04</td>\n",
       "      <td>8.632796e+02</td>\n",
       "      <td>1.835595e+03</td>\n",
       "      <td>307.304260</td>\n",
       "      <td>343.268007</td>\n",
       "      <td>4.326257e+02</td>\n",
       "      <td>382.840166</td>\n",
       "      <td>stable</td>\n",
       "    </tr>\n",
       "    <tr>\n",
       "      <th>2</th>\n",
       "      <td>6.634754e+05</td>\n",
       "      <td>1.602593e+04</td>\n",
       "      <td>6.317716e+02</td>\n",
       "      <td>1.605435e+03</td>\n",
       "      <td>348.666856</td>\n",
       "      <td>438.108110</td>\n",
       "      <td>3.502507e+02</td>\n",
       "      <td>436.015551</td>\n",
       "      <td>stable</td>\n",
       "    </tr>\n",
       "    <tr>\n",
       "      <th>3</th>\n",
       "      <td>6.256357e+05</td>\n",
       "      <td>1.876665e+04</td>\n",
       "      <td>4.443071e+02</td>\n",
       "      <td>1.023726e+03</td>\n",
       "      <td>428.968524</td>\n",
       "      <td>366.537116</td>\n",
       "      <td>3.017932e+02</td>\n",
       "      <td>427.229202</td>\n",
       "      <td>stable</td>\n",
       "    </tr>\n",
       "    <tr>\n",
       "      <th>4</th>\n",
       "      <td>6.936452e+05</td>\n",
       "      <td>1.398977e+04</td>\n",
       "      <td>6.239421e+02</td>\n",
       "      <td>1.632583e+03</td>\n",
       "      <td>440.897150</td>\n",
       "      <td>355.007638</td>\n",
       "      <td>4.727140e+02</td>\n",
       "      <td>408.486105</td>\n",
       "      <td>stable</td>\n",
       "    </tr>\n",
       "    <tr>\n",
       "      <th>...</th>\n",
       "      <td>...</td>\n",
       "      <td>...</td>\n",
       "      <td>...</td>\n",
       "      <td>...</td>\n",
       "      <td>...</td>\n",
       "      <td>...</td>\n",
       "      <td>...</td>\n",
       "      <td>...</td>\n",
       "      <td>...</td>\n",
       "    </tr>\n",
       "    <tr>\n",
       "      <th>335</th>\n",
       "      <td>6.686846e+09</td>\n",
       "      <td>7.047190e+08</td>\n",
       "      <td>2.156604e+06</td>\n",
       "      <td>1.165977e+08</td>\n",
       "      <td>105726.096356</td>\n",
       "      <td>170258.394887</td>\n",
       "      <td>1.696266e+06</td>\n",
       "      <td>213327.195453</td>\n",
       "      <td>unstable</td>\n",
       "    </tr>\n",
       "    <tr>\n",
       "      <th>336</th>\n",
       "      <td>6.960070e+09</td>\n",
       "      <td>6.396076e+08</td>\n",
       "      <td>2.572235e+06</td>\n",
       "      <td>9.847433e+07</td>\n",
       "      <td>156942.973410</td>\n",
       "      <td>206133.006572</td>\n",
       "      <td>1.758506e+06</td>\n",
       "      <td>267671.503703</td>\n",
       "      <td>unstable</td>\n",
       "    </tr>\n",
       "    <tr>\n",
       "      <th>337</th>\n",
       "      <td>6.884604e+09</td>\n",
       "      <td>6.336618e+08</td>\n",
       "      <td>2.735507e+06</td>\n",
       "      <td>8.729395e+07</td>\n",
       "      <td>127728.059040</td>\n",
       "      <td>146671.733146</td>\n",
       "      <td>1.846611e+06</td>\n",
       "      <td>235678.529255</td>\n",
       "      <td>unstable</td>\n",
       "    </tr>\n",
       "    <tr>\n",
       "      <th>338</th>\n",
       "      <td>6.975622e+09</td>\n",
       "      <td>6.708821e+08</td>\n",
       "      <td>2.573093e+06</td>\n",
       "      <td>9.662983e+07</td>\n",
       "      <td>156502.949774</td>\n",
       "      <td>197772.807374</td>\n",
       "      <td>1.826750e+06</td>\n",
       "      <td>230405.371466</td>\n",
       "      <td>unstable</td>\n",
       "    </tr>\n",
       "    <tr>\n",
       "      <th>339</th>\n",
       "      <td>7.080615e+09</td>\n",
       "      <td>6.746123e+08</td>\n",
       "      <td>2.310195e+06</td>\n",
       "      <td>1.050081e+08</td>\n",
       "      <td>106637.722862</td>\n",
       "      <td>197759.036648</td>\n",
       "      <td>1.298004e+06</td>\n",
       "      <td>265193.138408</td>\n",
       "      <td>unstable</td>\n",
       "    </tr>\n",
       "  </tbody>\n",
       "</table>\n",
       "<p>340 rows × 9 columns</p>\n",
       "</div>"
      ],
      "text/plain": [
       "                0             1             2             3              4  \\\n",
       "0    7.550988e+05  3.237739e+04  6.257317e+02  1.931027e+03     421.751580   \n",
       "1    8.316839e+05  2.901109e+04  8.632796e+02  1.835595e+03     307.304260   \n",
       "2    6.634754e+05  1.602593e+04  6.317716e+02  1.605435e+03     348.666856   \n",
       "3    6.256357e+05  1.876665e+04  4.443071e+02  1.023726e+03     428.968524   \n",
       "4    6.936452e+05  1.398977e+04  6.239421e+02  1.632583e+03     440.897150   \n",
       "..            ...           ...           ...           ...            ...   \n",
       "335  6.686846e+09  7.047190e+08  2.156604e+06  1.165977e+08  105726.096356   \n",
       "336  6.960070e+09  6.396076e+08  2.572235e+06  9.847433e+07  156942.973410   \n",
       "337  6.884604e+09  6.336618e+08  2.735507e+06  8.729395e+07  127728.059040   \n",
       "338  6.975622e+09  6.708821e+08  2.573093e+06  9.662983e+07  156502.949774   \n",
       "339  7.080615e+09  6.746123e+08  2.310195e+06  1.050081e+08  106637.722862   \n",
       "\n",
       "                 5             6              7    Status  \n",
       "0       380.141275  4.423725e+02     484.972989    stable  \n",
       "1       343.268007  4.326257e+02     382.840166    stable  \n",
       "2       438.108110  3.502507e+02     436.015551    stable  \n",
       "3       366.537116  3.017932e+02     427.229202    stable  \n",
       "4       355.007638  4.727140e+02     408.486105    stable  \n",
       "..             ...           ...            ...       ...  \n",
       "335  170258.394887  1.696266e+06  213327.195453  unstable  \n",
       "336  206133.006572  1.758506e+06  267671.503703  unstable  \n",
       "337  146671.733146  1.846611e+06  235678.529255  unstable  \n",
       "338  197772.807374  1.826750e+06  230405.371466  unstable  \n",
       "339  197759.036648  1.298004e+06  265193.138408  unstable  \n",
       "\n",
       "[340 rows x 9 columns]"
      ]
     },
     "execution_count": 5,
     "metadata": {},
     "output_type": "execute_result"
    }
   ],
   "source": [
    "data"
   ]
  },
  {
   "cell_type": "code",
   "execution_count": 6,
   "metadata": {},
   "outputs": [],
   "source": [
    "data['Status'] = pd.Categorical(data['Status'])"
   ]
  },
  {
   "cell_type": "code",
   "execution_count": 7,
   "metadata": {},
   "outputs": [
    {
     "data": {
      "text/plain": [
       "transition    160\n",
       "stable        120\n",
       "unstable       60\n",
       "Name: Status, dtype: int64"
      ]
     },
     "execution_count": 7,
     "metadata": {},
     "output_type": "execute_result"
    }
   ],
   "source": [
    "data['Status'].value_counts()"
   ]
  },
  {
   "cell_type": "code",
   "execution_count": 8,
   "metadata": {},
   "outputs": [],
   "source": [
    "train, test = train_test_split(data, test_size = None, shuffle = True,\n",
    "                                                    random_state = 500)"
   ]
  },
  {
   "cell_type": "code",
   "execution_count": 9,
   "metadata": {},
   "outputs": [
    {
     "data": {
      "text/plain": [
       "(255, 9)"
      ]
     },
     "execution_count": 9,
     "metadata": {},
     "output_type": "execute_result"
    }
   ],
   "source": [
    "train.shape"
   ]
  },
  {
   "cell_type": "code",
   "execution_count": 10,
   "metadata": {},
   "outputs": [
    {
     "data": {
      "text/plain": [
       "(85, 9)"
      ]
     },
     "execution_count": 10,
     "metadata": {},
     "output_type": "execute_result"
    }
   ],
   "source": [
    "test.shape"
   ]
  },
  {
   "cell_type": "code",
   "execution_count": null,
   "metadata": {},
   "outputs": [],
   "source": []
  },
  {
   "cell_type": "code",
   "execution_count": 11,
   "metadata": {},
   "outputs": [],
   "source": [
    "scaler = StandardScaler()\n",
    "train_scaled= scaler.fit_transform(train.iloc[:,:-1])\n",
    "test_scaled = (test.iloc[:,:-1].values - scaler.mean_)/np.sqrt(scaler.var_)"
   ]
  },
  {
   "cell_type": "code",
   "execution_count": 12,
   "metadata": {},
   "outputs": [],
   "source": [
    "mean_scaler = scaler.mean_\n",
    "std_scaler = np.sqrt(scaler.var_)"
   ]
  },
  {
   "cell_type": "code",
   "execution_count": 13,
   "metadata": {},
   "outputs": [
    {
     "data": {
      "text/plain": [
       "array([2.19852182e+09, 1.76059770e+08, 6.18181401e+05, 2.37965404e+07,\n",
       "       2.82191007e+04, 4.87939897e+04, 4.11935680e+05, 5.74221588e+04])"
      ]
     },
     "execution_count": 13,
     "metadata": {},
     "output_type": "execute_result"
    }
   ],
   "source": [
    "mean_scaler"
   ]
  },
  {
   "cell_type": "code",
   "execution_count": 14,
   "metadata": {},
   "outputs": [
    {
     "data": {
      "text/plain": [
       "array([2.38895913e+09, 2.21378556e+08, 8.41196980e+05, 3.27092192e+07,\n",
       "       4.08928783e+04, 5.77347950e+04, 5.66967440e+05, 7.86067827e+04])"
      ]
     },
     "execution_count": 14,
     "metadata": {},
     "output_type": "execute_result"
    }
   ],
   "source": [
    "std_scaler"
   ]
  },
  {
   "cell_type": "code",
   "execution_count": 15,
   "metadata": {},
   "outputs": [
    {
     "data": {
      "text/plain": [
       "numpy.ndarray"
      ]
     },
     "execution_count": 15,
     "metadata": {},
     "output_type": "execute_result"
    }
   ],
   "source": [
    "type(mean_scaler)"
   ]
  },
  {
   "cell_type": "code",
   "execution_count": 16,
   "metadata": {},
   "outputs": [
    {
     "data": {
      "text/plain": [
       "array([-0.8933399 , -0.77757425, -0.72479401, -0.72030551, -0.67623575,\n",
       "       -0.82828709, -0.7212364 , -0.71581604])"
      ]
     },
     "execution_count": 16,
     "metadata": {},
     "output_type": "execute_result"
    }
   ],
   "source": [
    "train_scaled[1]\n"
   ]
  },
  {
   "cell_type": "code",
   "execution_count": 17,
   "metadata": {},
   "outputs": [
    {
     "data": {
      "text/html": [
       "<div>\n",
       "<style scoped>\n",
       "    .dataframe tbody tr th:only-of-type {\n",
       "        vertical-align: middle;\n",
       "    }\n",
       "\n",
       "    .dataframe tbody tr th {\n",
       "        vertical-align: top;\n",
       "    }\n",
       "\n",
       "    .dataframe thead th {\n",
       "        text-align: right;\n",
       "    }\n",
       "</style>\n",
       "<table border=\"1\" class=\"dataframe\">\n",
       "  <thead>\n",
       "    <tr style=\"text-align: right;\">\n",
       "      <th></th>\n",
       "      <th>0</th>\n",
       "      <th>1</th>\n",
       "      <th>2</th>\n",
       "      <th>3</th>\n",
       "      <th>4</th>\n",
       "      <th>5</th>\n",
       "      <th>6</th>\n",
       "      <th>7</th>\n",
       "    </tr>\n",
       "  </thead>\n",
       "  <tbody>\n",
       "    <tr>\n",
       "      <th>190</th>\n",
       "      <td>1.544984e+09</td>\n",
       "      <td>1.127786e+08</td>\n",
       "      <td>4.269248e+05</td>\n",
       "      <td>1.435354e+07</td>\n",
       "      <td>7752.824864</td>\n",
       "      <td>39452.065497</td>\n",
       "      <td>1.606193e+05</td>\n",
       "      <td>18085.553778</td>\n",
       "    </tr>\n",
       "    <tr>\n",
       "      <th>118</th>\n",
       "      <td>3.583017e+07</td>\n",
       "      <td>1.491537e+06</td>\n",
       "      <td>3.799757e+03</td>\n",
       "      <td>9.975754e+04</td>\n",
       "      <td>576.613235</td>\n",
       "      <td>698.171108</td>\n",
       "      <td>1.795127e+03</td>\n",
       "      <td>990.476776</td>\n",
       "    </tr>\n",
       "    <tr>\n",
       "      <th>133</th>\n",
       "      <td>5.434293e+08</td>\n",
       "      <td>3.379733e+07</td>\n",
       "      <td>6.924799e+04</td>\n",
       "      <td>3.482347e+06</td>\n",
       "      <td>2219.974079</td>\n",
       "      <td>8936.853833</td>\n",
       "      <td>4.145317e+04</td>\n",
       "      <td>8715.451175</td>\n",
       "    </tr>\n",
       "    <tr>\n",
       "      <th>214</th>\n",
       "      <td>2.522025e+09</td>\n",
       "      <td>1.330707e+08</td>\n",
       "      <td>4.761275e+05</td>\n",
       "      <td>1.493473e+07</td>\n",
       "      <td>19289.964188</td>\n",
       "      <td>40720.612978</td>\n",
       "      <td>2.721276e+05</td>\n",
       "      <td>39799.554831</td>\n",
       "    </tr>\n",
       "    <tr>\n",
       "      <th>105</th>\n",
       "      <td>3.288369e+07</td>\n",
       "      <td>1.292273e+06</td>\n",
       "      <td>3.480654e+03</td>\n",
       "      <td>1.186503e+05</td>\n",
       "      <td>565.767160</td>\n",
       "      <td>934.059881</td>\n",
       "      <td>2.620681e+03</td>\n",
       "      <td>1085.398306</td>\n",
       "    </tr>\n",
       "    <tr>\n",
       "      <th>...</th>\n",
       "      <td>...</td>\n",
       "      <td>...</td>\n",
       "      <td>...</td>\n",
       "      <td>...</td>\n",
       "      <td>...</td>\n",
       "      <td>...</td>\n",
       "      <td>...</td>\n",
       "      <td>...</td>\n",
       "    </tr>\n",
       "    <tr>\n",
       "      <th>140</th>\n",
       "      <td>5.221330e+08</td>\n",
       "      <td>3.951681e+07</td>\n",
       "      <td>1.148444e+05</td>\n",
       "      <td>4.328410e+06</td>\n",
       "      <td>3964.398110</td>\n",
       "      <td>9245.992193</td>\n",
       "      <td>6.460439e+04</td>\n",
       "      <td>11090.716976</td>\n",
       "    </tr>\n",
       "    <tr>\n",
       "      <th>134</th>\n",
       "      <td>5.906141e+08</td>\n",
       "      <td>4.057194e+07</td>\n",
       "      <td>7.327573e+04</td>\n",
       "      <td>3.761057e+06</td>\n",
       "      <td>2334.568504</td>\n",
       "      <td>6915.535577</td>\n",
       "      <td>3.465053e+04</td>\n",
       "      <td>8250.173726</td>\n",
       "    </tr>\n",
       "    <tr>\n",
       "      <th>292</th>\n",
       "      <td>5.226262e+09</td>\n",
       "      <td>5.480382e+08</td>\n",
       "      <td>1.990183e+06</td>\n",
       "      <td>8.756478e+07</td>\n",
       "      <td>72454.224045</td>\n",
       "      <td>118999.006822</td>\n",
       "      <td>1.512059e+06</td>\n",
       "      <td>144440.015779</td>\n",
       "    </tr>\n",
       "    <tr>\n",
       "      <th>243</th>\n",
       "      <td>3.951654e+09</td>\n",
       "      <td>2.548528e+08</td>\n",
       "      <td>1.062215e+06</td>\n",
       "      <td>2.752507e+07</td>\n",
       "      <td>40845.242611</td>\n",
       "      <td>74025.549917</td>\n",
       "      <td>5.474605e+05</td>\n",
       "      <td>65550.800637</td>\n",
       "    </tr>\n",
       "    <tr>\n",
       "      <th>71</th>\n",
       "      <td>8.387817e+07</td>\n",
       "      <td>4.303313e+06</td>\n",
       "      <td>1.086561e+04</td>\n",
       "      <td>1.594188e+05</td>\n",
       "      <td>645.186621</td>\n",
       "      <td>1094.855265</td>\n",
       "      <td>4.537096e+03</td>\n",
       "      <td>1326.037434</td>\n",
       "    </tr>\n",
       "  </tbody>\n",
       "</table>\n",
       "<p>85 rows × 8 columns</p>\n",
       "</div>"
      ],
      "text/plain": [
       "                0             1             2             3             4  \\\n",
       "190  1.544984e+09  1.127786e+08  4.269248e+05  1.435354e+07   7752.824864   \n",
       "118  3.583017e+07  1.491537e+06  3.799757e+03  9.975754e+04    576.613235   \n",
       "133  5.434293e+08  3.379733e+07  6.924799e+04  3.482347e+06   2219.974079   \n",
       "214  2.522025e+09  1.330707e+08  4.761275e+05  1.493473e+07  19289.964188   \n",
       "105  3.288369e+07  1.292273e+06  3.480654e+03  1.186503e+05    565.767160   \n",
       "..            ...           ...           ...           ...           ...   \n",
       "140  5.221330e+08  3.951681e+07  1.148444e+05  4.328410e+06   3964.398110   \n",
       "134  5.906141e+08  4.057194e+07  7.327573e+04  3.761057e+06   2334.568504   \n",
       "292  5.226262e+09  5.480382e+08  1.990183e+06  8.756478e+07  72454.224045   \n",
       "243  3.951654e+09  2.548528e+08  1.062215e+06  2.752507e+07  40845.242611   \n",
       "71   8.387817e+07  4.303313e+06  1.086561e+04  1.594188e+05    645.186621   \n",
       "\n",
       "                 5             6              7  \n",
       "190   39452.065497  1.606193e+05   18085.553778  \n",
       "118     698.171108  1.795127e+03     990.476776  \n",
       "133    8936.853833  4.145317e+04    8715.451175  \n",
       "214   40720.612978  2.721276e+05   39799.554831  \n",
       "105     934.059881  2.620681e+03    1085.398306  \n",
       "..             ...           ...            ...  \n",
       "140    9245.992193  6.460439e+04   11090.716976  \n",
       "134    6915.535577  3.465053e+04    8250.173726  \n",
       "292  118999.006822  1.512059e+06  144440.015779  \n",
       "243   74025.549917  5.474605e+05   65550.800637  \n",
       "71     1094.855265  4.537096e+03    1326.037434  \n",
       "\n",
       "[85 rows x 8 columns]"
      ]
     },
     "execution_count": 17,
     "metadata": {},
     "output_type": "execute_result"
    }
   ],
   "source": [
    "test.iloc[:,:-1]"
   ]
  },
  {
   "cell_type": "markdown",
   "metadata": {},
   "source": [
    "## Training Logistic Regression"
   ]
  },
  {
   "cell_type": "code",
   "execution_count": 18,
   "metadata": {},
   "outputs": [],
   "source": [
    "logistic_clf = LogisticRegression(C = 100, max_iter = 500, n_jobs = -1)"
   ]
  },
  {
   "cell_type": "code",
   "execution_count": 19,
   "metadata": {},
   "outputs": [
    {
     "data": {
      "text/plain": [
       "LogisticRegression(C=100, max_iter=500, n_jobs=-1)"
      ]
     },
     "execution_count": 19,
     "metadata": {},
     "output_type": "execute_result"
    }
   ],
   "source": [
    "logistic_clf.fit(train_scaled, train['Status'])\n"
   ]
  },
  {
   "cell_type": "code",
   "execution_count": 20,
   "metadata": {},
   "outputs": [],
   "source": [
    "train_predictions = logistic_clf.predict(train_scaled)\n",
    "test_predictions = logistic_clf.predict(test_scaled)"
   ]
  },
  {
   "cell_type": "markdown",
   "metadata": {},
   "source": [
    "### Confusion Matrices"
   ]
  },
  {
   "cell_type": "code",
   "execution_count": 21,
   "metadata": {},
   "outputs": [],
   "source": [
    "train_confusion_matrix = confusion_matrix(train['Status'], train_predictions)\n",
    "test_confusion_matrix = confusion_matrix(test['Status'], test_predictions)\n"
   ]
  },
  {
   "cell_type": "markdown",
   "metadata": {},
   "source": [
    "### Acuracy Calculation"
   ]
  },
  {
   "cell_type": "code",
   "execution_count": 22,
   "metadata": {},
   "outputs": [
    {
     "name": "stdout",
     "output_type": "stream",
     "text": [
      "Ovearll training accuracy:  0.984313725490196\n"
     ]
    }
   ],
   "source": [
    "train_accuracy = accuracy_score(train['Status'], train_predictions)\n",
    "print(\"Ovearll training accuracy: \", train_accuracy)"
   ]
  },
  {
   "cell_type": "code",
   "execution_count": 23,
   "metadata": {},
   "outputs": [
    {
     "name": "stdout",
     "output_type": "stream",
     "text": [
      "Ovearll testing accuracy:  0.9764705882352941\n"
     ]
    }
   ],
   "source": [
    "\n",
    "test_accuracy = accuracy_score(test['Status'], test_predictions)\n",
    "print(\"Ovearll testing accuracy: \", test_accuracy)"
   ]
  },
  {
   "cell_type": "code",
   "execution_count": 24,
   "metadata": {},
   "outputs": [
    {
     "data": {
      "image/png": "[encoded data removed]",
      "text/plain": [
       "<Figure size 1008x432 with 4 Axes>"
      ]
     },
     "metadata": {
      "needs_background": "light"
     },
     "output_type": "display_data"
    }
   ],
   "source": [
    "\n",
    "status_of_signal = ['Statble','Transition','Unstable']\n",
    "plt.figure(figsize=(14,6))\n",
    "plt.subplot(121)\n",
    "sns.heatmap(train_confusion_matrix, annot= True,fmt = \"d\",\n",
    "xticklabels=status_of_signal, yticklabels=status_of_signal, cmap = \"Blues\")\n",
    "plt.title('Training Confusion Matrix',size  = 15)\n",
    "plt.xlabel('Predicted',size  = 20)\n",
    "plt.ylabel('True',size  = 20)\n",
    "\n",
    "plt.subplot(122)\n",
    "sns.heatmap(test_confusion_matrix, annot = True,\n",
    "xticklabels=status_of_signal, yticklabels=status_of_signal, cmap = \"Blues\")\n",
    "plt.title('Test Confusion Matrix',size  = 15)\n",
    "plt.xlabel('Predicted',size  = 20)\n",
    "plt.ylabel('True',size  = 20)\n",
    "#plt.savefig('confusion_lr_wpt8.jpg', dpi = 400)\n",
    "sns.set(font_scale = 1.5)\n",
    "plt.show()"
   ]
  },
  {
   "cell_type": "code",
   "execution_count": null,
   "metadata": {},
   "outputs": [],
   "source": []
  },
  {
   "cell_type": "code",
   "execution_count": null,
   "metadata": {},
   "outputs": [],
   "source": []
  },
  {
   "cell_type": "code",
   "execution_count": null,
   "metadata": {},
   "outputs": [],
   "source": []
  },
  {
   "cell_type": "markdown",
   "metadata": {},
   "source": [
    "## Training decision tree"
   ]
  },
  {
   "cell_type": "code",
   "execution_count": 25,
   "metadata": {},
   "outputs": [],
   "source": [
    "from sklearn.tree import DecisionTreeClassifier\n",
    "from sklearn import tree\n"
   ]
  },
  {
   "cell_type": "code",
   "execution_count": 26,
   "metadata": {},
   "outputs": [],
   "source": [
    "dt = DecisionTreeClassifier(max_depth=2)"
   ]
  },
  {
   "cell_type": "code",
   "execution_count": 27,
   "metadata": {},
   "outputs": [
    {
     "data": {
      "text/plain": [
       "DecisionTreeClassifier(max_depth=2)"
      ]
     },
     "execution_count": 27,
     "metadata": {},
     "output_type": "execute_result"
    }
   ],
   "source": [
    "dt.fit(train_scaled, train['Status'])"
   ]
  },
  {
   "cell_type": "code",
   "execution_count": 28,
   "metadata": {},
   "outputs": [],
   "source": [
    "train_predict = dt.predict(train_scaled)\n",
    "test_predict = dt.predict(test_scaled)"
   ]
  },
  {
   "cell_type": "code",
   "execution_count": 29,
   "metadata": {},
   "outputs": [],
   "source": [
    "train_confusion = confusion_matrix(train['Status'], train_predict)\n",
    "test_confusion = confusion_matrix(test['Status'], test_predict)\n"
   ]
  },
  {
   "cell_type": "code",
   "execution_count": 30,
   "metadata": {},
   "outputs": [
    {
     "name": "stdout",
     "output_type": "stream",
     "text": [
      "Ovearll training accuracy:  0.996078431372549\n",
      "Ovearll testing accuracy:  0.9764705882352941\n"
     ]
    }
   ],
   "source": [
    "train_accu = accuracy_score(train['Status'], train_predict)\n",
    "print(\"Ovearll training accuracy: \", train_accu)\n",
    "\n",
    "test_accu = accuracy_score(test['Status'], test_predict)\n",
    "print(\"Ovearll testing accuracy: \", test_accu)"
   ]
  },
  {
   "cell_type": "code",
   "execution_count": 31,
   "metadata": {},
   "outputs": [
    {
     "data": {
      "image/png": "[encoded data removed]",
      "text/plain": [
       "<Figure size 720x576 with 1 Axes>"
      ]
     },
     "metadata": {},
     "output_type": "display_data"
    }
   ],
   "source": [
    "plt.figure(figsize = (10,8))\n",
    "tree.plot_tree(dt) \n",
    "plt.show()"
   ]
  },
  {
   "cell_type": "code",
   "execution_count": null,
   "metadata": {},
   "outputs": [],
   "source": []
  },
  {
   "cell_type": "code",
   "execution_count": 32,
   "metadata": {},
   "outputs": [
    {
     "data": {
      "image/png": "[encoded data removed]",
      "text/plain": [
       "<Figure size 1008x432 with 4 Axes>"
      ]
     },
     "metadata": {},
     "output_type": "display_data"
    }
   ],
   "source": [
    "status_of_signal = ['Statble','Transition','Unstable']\n",
    "plt.figure(figsize=(14,6))\n",
    "plt.subplot(121)\n",
    "sns.heatmap(train_confusion, annot= True,fmt = \"d\",\n",
    "xticklabels=status_of_signal, yticklabels=status_of_signal, cmap = \"Blues\")\n",
    "plt.title('Train Confusion Matrix',size  = 15)\n",
    "plt.xlabel('Predicted',size  = 20)\n",
    "plt.ylabel('True',size  = 20)\n",
    "\n",
    "plt.subplot(122)\n",
    "sns.heatmap(test_confusion, annot = True,\n",
    "xticklabels=status_of_signal, yticklabels=status_of_signal, cmap = \"Blues\")\n",
    "plt.title('Test Confusion Matrix',size  = 15)\n",
    "plt.xlabel('Predicted',size  = 20)\n",
    "plt.ylabel('True',size  = 20)\n",
    "plt.savefig('confusion_DecisionTree.jpg', dpi = 400)\n",
    "plt.show()"
   ]
  },
  {
   "cell_type": "code",
   "execution_count": null,
   "metadata": {},
   "outputs": [],
   "source": []
  },
  {
   "cell_type": "markdown",
   "metadata": {},
   "source": [
    "## Training SVM"
   ]
  },
  {
   "cell_type": "code",
   "execution_count": 33,
   "metadata": {},
   "outputs": [],
   "source": [
    "from sklearn.model_selection import GridSearchCV\n",
    "from sklearn.svm import SVC"
   ]
  },
  {
   "cell_type": "code",
   "execution_count": 34,
   "metadata": {},
   "outputs": [],
   "source": [
    "parameters = {\"C\":[1, 10, 50, 100, 300, 500],\n",
    "             'gamma':[0.01, 0.05, 0.1, 0.5, 1, 5],\n",
    "             'kernel':[\"rbf\"]}"
   ]
  },
  {
   "cell_type": "code",
   "execution_count": 35,
   "metadata": {},
   "outputs": [],
   "source": [
    "tuned_svm_clf = GridSearchCV(SVC(),parameters,n_jobs = -1, cv= 10)\n"
   ]
  },
  {
   "cell_type": "code",
   "execution_count": 36,
   "metadata": {},
   "outputs": [
    {
     "data": {
      "text/plain": [
       "GridSearchCV(cv=10, estimator=SVC(), n_jobs=-1,\n",
       "             param_grid={'C': [1, 10, 50, 100, 300, 500],\n",
       "                         'gamma': [0.01, 0.05, 0.1, 0.5, 1, 5],\n",
       "                         'kernel': ['rbf']})"
      ]
     },
     "execution_count": 36,
     "metadata": {},
     "output_type": "execute_result"
    }
   ],
   "source": [
    "tuned_svm_clf.fit(train_scaled, train['Status'])"
   ]
  },
  {
   "cell_type": "code",
   "execution_count": 37,
   "metadata": {},
   "outputs": [
    {
     "data": {
      "text/plain": [
       "0.9884615384615385"
      ]
     },
     "execution_count": 37,
     "metadata": {},
     "output_type": "execute_result"
    }
   ],
   "source": [
    "tuned_svm_clf.best_score_"
   ]
  },
  {
   "cell_type": "code",
   "execution_count": 38,
   "metadata": {},
   "outputs": [
    {
     "data": {
      "text/plain": [
       "{'C': 100, 'gamma': 1, 'kernel': 'rbf'}"
      ]
     },
     "execution_count": 38,
     "metadata": {},
     "output_type": "execute_result"
    }
   ],
   "source": [
    "tuned_svm_clf.best_params_"
   ]
  },
  {
   "cell_type": "code",
   "execution_count": 39,
   "metadata": {},
   "outputs": [
    {
     "data": {
      "text/plain": [
       "SVC(C=100, gamma=1)"
      ]
     },
     "execution_count": 39,
     "metadata": {},
     "output_type": "execute_result"
    }
   ],
   "source": [
    "best_clf = tuned_svm_clf.best_estimator_\n",
    "best_clf"
   ]
  },
  {
   "cell_type": "code",
   "execution_count": 40,
   "metadata": {},
   "outputs": [],
   "source": [
    "train_predictions_svm = best_clf.predict(train_scaled)\n",
    "test_predictions_svm = best_clf.predict(test_scaled)"
   ]
  },
  {
   "cell_type": "code",
   "execution_count": 41,
   "metadata": {},
   "outputs": [],
   "source": [
    "train_confu_matrix_svm = confusion_matrix(train['Status'], train_predictions_svm)\n",
    "test_confu_matrix_svm = confusion_matrix(test['Status'], test_predictions_svm)"
   ]
  },
  {
   "cell_type": "code",
   "execution_count": 42,
   "metadata": {},
   "outputs": [
    {
     "name": "stdout",
     "output_type": "stream",
     "text": [
      "Ovearll training accuracy:  0.9882352941176471\n",
      "Ovearll testing accuracy:  0.9882352941176471\n"
     ]
    }
   ],
   "source": [
    "train_accu_svm = accuracy_score(train['Status'], train_predictions_svm)\n",
    "print(\"Ovearll training accuracy: \", train_accu_svm)\n",
    "\n",
    "test_accu_svm = accuracy_score(test['Status'], test_predictions_svm)\n",
    "print(\"Ovearll testing accuracy: \", test_accu_svm)"
   ]
  },
  {
   "cell_type": "code",
   "execution_count": 43,
   "metadata": {
    "scrolled": true
   },
   "outputs": [
    {
     "data": {
      "image/png": "[encoded data removed]",
      "text/plain": [
       "<Figure size 1008x432 with 4 Axes>"
      ]
     },
     "metadata": {},
     "output_type": "display_data"
    }
   ],
   "source": [
    "status_of_signal = ['Statble','Transition','Unstable']\n",
    "plt.figure(figsize=(14,6))\n",
    "plt.subplot(121)\n",
    "sns.heatmap(train_confu_matrix_svm, annot= True,fmt = \"d\",\n",
    "xticklabels=status_of_signal, yticklabels=status_of_signal, cmap = \"Blues\")\n",
    "plt.title('Train Confusion Matrix',size  = 15)\n",
    "plt.xlabel('Predicted',size  = 20)\n",
    "plt.ylabel('True',size  = 20)\n",
    "\n",
    "plt.subplot(122)\n",
    "sns.heatmap(test_confu_matrix_svm, annot = True,\n",
    "xticklabels=status_of_signal, yticklabels=status_of_signal, cmap = \"Blues\")\n",
    "plt.title('Test Confusion Matrix',size  = 15)\n",
    "plt.xlabel('Predicted',size  = 20)\n",
    "plt.ylabel('True',size  = 20)\n",
    "plt.savefig('confusion_svm.jpg', dpi = 400)\n",
    "plt.show()"
   ]
  },
  {
   "cell_type": "markdown",
   "metadata": {},
   "source": [
    "# Random Forest"
   ]
  },
  {
   "cell_type": "code",
   "execution_count": 44,
   "metadata": {},
   "outputs": [],
   "source": [
    "from sklearn.ensemble import RandomForestClassifier"
   ]
  },
  {
   "cell_type": "code",
   "execution_count": 45,
   "metadata": {},
   "outputs": [],
   "source": [
    "rf_clf = RandomForestClassifier(n_estimators= 150, max_features = 8, n_jobs = -1, random_state = 892)"
   ]
  },
  {
   "cell_type": "code",
   "execution_count": 46,
   "metadata": {},
   "outputs": [
    {
     "data": {
      "text/plain": [
       "RandomForestClassifier(max_features=8, n_estimators=150, n_jobs=-1,\n",
       "                       random_state=892)"
      ]
     },
     "execution_count": 46,
     "metadata": {},
     "output_type": "execute_result"
    }
   ],
   "source": [
    "rf_clf.fit(train_scaled, train['Status'])"
   ]
  },
  {
   "cell_type": "code",
   "execution_count": 47,
   "metadata": {},
   "outputs": [],
   "source": [
    "train_predict_rf = rf_clf.predict(train_scaled)\n",
    "test_predict_rf = rf_clf.predict(test_scaled)"
   ]
  },
  {
   "cell_type": "code",
   "execution_count": 48,
   "metadata": {},
   "outputs": [],
   "source": [
    "train_confusion_rf = confusion_matrix(train['Status'], train_predict_rf)\n",
    "test_confusion_rf = confusion_matrix(test['Status'], test_predict_rf)\n"
   ]
  },
  {
   "cell_type": "code",
   "execution_count": 49,
   "metadata": {},
   "outputs": [
    {
     "name": "stdout",
     "output_type": "stream",
     "text": [
      "Ovearll training accuracy:  1.0\n",
      "Ovearll testing accuracy:  0.9882352941176471\n"
     ]
    }
   ],
   "source": [
    "train_accu_rf = accuracy_score(train['Status'], train_predict_rf )\n",
    "print(\"Ovearll training accuracy: \", train_accu_rf)\n",
    "\n",
    "test_accu_rf = accuracy_score(test['Status'], test_predict_rf)\n",
    "print(\"Ovearll testing accuracy: \", test_accu_rf)"
   ]
  },
  {
   "cell_type": "code",
   "execution_count": 50,
   "metadata": {},
   "outputs": [
    {
     "data": {
      "image/png": "[encoded data removed]",
      "text/plain": [
       "<Figure size 1008x432 with 4 Axes>"
      ]
     },
     "metadata": {},
     "output_type": "display_data"
    }
   ],
   "source": [
    "status_of_signal = ['Statble','Transition','Unstable']\n",
    "plt.figure(figsize=(14,6))\n",
    "plt.subplot(121)\n",
    "sns.heatmap(train_confusion_rf, annot= True,fmt = \"d\",\n",
    "xticklabels=status_of_signal, yticklabels=status_of_signal, cmap = \"Blues\")\n",
    "plt.title('Training Confusion Matrix')\n",
    "plt.xlabel('Predicted')\n",
    "plt.ylabel('True')\n",
    "\n",
    "plt.subplot(122)\n",
    "sns.heatmap(test_confusion_rf, annot = True,\n",
    "xticklabels=status_of_signal, yticklabels=status_of_signal, cmap = \"Blues\")\n",
    "plt.title('Test Confusion Matrix')\n",
    "plt.xlabel('Predicted')\n",
    "plt.ylabel('True')\n",
    "plt.savefig('confusion_svm.jpg', dpi = 400)\n",
    "plt.show()"
   ]
  },
  {
   "cell_type": "code",
   "execution_count": null,
   "metadata": {},
   "outputs": [],
   "source": []
  },
  {
   "cell_type": "code",
   "execution_count": null,
   "metadata": {},
   "outputs": [],
   "source": []
  },
  {
   "cell_type": "code",
   "execution_count": 51,
   "metadata": {},
   "outputs": [],
   "source": [
    "with open('model_lr_wpt8','wb') as f:\n",
    "    pickle.dump(logistic_clf,f)"
   ]
  },
  {
   "cell_type": "code",
   "execution_count": 52,
   "metadata": {},
   "outputs": [],
   "source": [
    "with open('model_dt_wpt8','wb') as f:\n",
    "    pickle.dump(dt,f)"
   ]
  },
  {
   "cell_type": "code",
   "execution_count": 53,
   "metadata": {},
   "outputs": [],
   "source": [
    "with open('model_svm_wpt8','wb') as f:\n",
    "    pickle.dump(best_clf,f)"
   ]
  },
  {
   "cell_type": "code",
   "execution_count": 57,
   "metadata": {},
   "outputs": [],
   "source": [
    "with open('model_rf_wpt8','wb') as f:\n",
    "    pickle.dump(rf_clf,f)"
   ]
  },
  {
   "cell_type": "code",
   "execution_count": 55,
   "metadata": {},
   "outputs": [],
   "source": [
    "with open('mean_scaler_wpt_512', 'wb') as f:\n",
    "    pickle.dump(mean_scaler, f)"
   ]
  },
  {
   "cell_type": "code",
   "execution_count": 56,
   "metadata": {},
   "outputs": [],
   "source": [
    "with open('std_scaler_wpt_512', 'wb') as f:\n",
    "    pickle.dump(std_scaler, f)"
   ]
  },
  {
   "cell_type": "code",
   "execution_count": null,
   "metadata": {},
   "outputs": [],
   "source": []
  },
  {
   "cell_type": "code",
   "execution_count": null,
   "metadata": {},
   "outputs": [],
   "source": []
  },
  {
   "cell_type": "code",
   "execution_count": null,
   "metadata": {},
   "outputs": [],
   "source": []
  },
  {
   "cell_type": "code",
   "execution_count": null,
   "metadata": {},
   "outputs": [],
   "source": []
  },
  {
   "cell_type": "code",
   "execution_count": null,
   "metadata": {},
   "outputs": [],
   "source": []
  },
  {
   "cell_type": "code",
   "execution_count": null,
   "metadata": {},
   "outputs": [],
   "source": []
  },
  {
   "cell_type": "code",
   "execution_count": null,
   "metadata": {},
   "outputs": [],
   "source": []
  },
  {
   "cell_type": "code",
   "execution_count": null,
   "metadata": {},
   "outputs": [],
   "source": []
  },
  {
   "cell_type": "code",
   "execution_count": null,
   "metadata": {},
   "outputs": [],
   "source": []
  },
  {
   "cell_type": "code",
   "execution_count": null,
   "metadata": {},
   "outputs": [],
   "source": []
  },
  {
   "cell_type": "code",
   "execution_count": null,
   "metadata": {},
   "outputs": [],
   "source": []
  },
  {
   "cell_type": "code",
   "execution_count": null,
   "metadata": {},
   "outputs": [],
   "source": []
  },
  {
   "cell_type": "code",
   "execution_count": null,
   "metadata": {},
   "outputs": [],
   "source": []
  },
  {
   "cell_type": "code",
   "execution_count": null,
   "metadata": {},
   "outputs": [],
   "source": []
  },
  {
   "cell_type": "code",
   "execution_count": null,
   "metadata": {},
   "outputs": [],
   "source": []
  },
  {
   "cell_type": "code",
   "execution_count": null,
   "metadata": {},
   "outputs": [],
   "source": []
  },
  {
   "cell_type": "code",
   "execution_count": null,
   "metadata": {},
   "outputs": [],
   "source": []
  },
  {
   "cell_type": "code",
   "execution_count": null,
   "metadata": {},
   "outputs": [],
   "source": []
  },
  {
   "cell_type": "code",
   "execution_count": null,
   "metadata": {},
   "outputs": [],
   "source": []
  },
  {
   "cell_type": "code",
   "execution_count": null,
   "metadata": {},
   "outputs": [],
   "source": []
  },
  {
   "cell_type": "code",
   "execution_count": null,
   "metadata": {},
   "outputs": [],
   "source": []
  }
 ],
 "metadata": {
  "kernelspec": {
   "display_name": "Python 3",
   "language": "python",
   "name": "python3"
  },
  "language_info": {
   "codemirror_mode": {
    "name": "ipython",
    "version": 3
   },
   "file_extension": ".py",
   "mimetype": "text/x-python",
   "name": "python",
   "nbconvert_exporter": "python",
   "pygments_lexer": "ipython3",
   "version": "3.8.3"
  }
 },
 "nbformat": 4,
 "nbformat_minor": 4
}
